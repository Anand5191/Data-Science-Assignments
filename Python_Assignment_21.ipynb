{
  "nbformat": 4,
  "nbformat_minor": 0,
  "metadata": {
    "colab": {
      "provenance": []
    },
    "kernelspec": {
      "name": "python3",
      "display_name": "Python 3"
    },
    "language_info": {
      "name": "python"
    }
  },
  "cells": [
    {
      "cell_type": "code",
      "execution_count": null,
      "metadata": {
        "colab": {
          "base_uri": "https://localhost:8080/"
        },
        "id": "yPWAAHOIUKXQ",
        "outputId": "29f80db4-4b2e-4c72-d907-3db696511859"
      },
      "outputs": [
        {
          "output_type": "stream",
          "name": "stdout",
          "text": [
            "course_name    Machine Learning\n",
            "duration                      3\n",
            "Name: 1, dtype: object\n"
          ]
        }
      ],
      "source": [
        "#Q1\n",
        "\n",
        "import pandas as pd\n",
        "course_name = ['Data Science', 'Machine Learning', 'Big Data', 'Data Engineer']\n",
        "duration = [2, 3, 6, 4]\n",
        "df = pd.DataFrame(data={'course_name': course_name, 'duration': duration})\n",
        "print(df.iloc[1])\n"
      ]
    },
    {
      "cell_type": "code",
      "source": [
        "#Q2\n",
        "\n",
        "\"\"\" Both loc[] and iloc[] are used to select data from a Pandas DataFrame, but they differ in how they access rows and columns.\n",
        "\n",
        "Feature\t         :                 loc[] (Label-Based)                                  iloc[] (Index-Based)\n",
        "Selection Type\t :              Uses labels (row/column names)       ---------------\t  Uses integer positions\n",
        "Row Selection\t   :            df.loc[2] → Selects row with index 2   ---------------    df.iloc[2] → Selects third row (0-based index)\n",
        "Column Selection :            df.loc[:, 'column_name']\t             ---------------    df.iloc[:, column_index]\n",
        "Range Selection\t :             Inclusive (includes end index)\t       ---------------    Exclusive (excludes end index) \"\"\""
      ],
      "metadata": {
        "id": "1xsu7CSRUoAd"
      },
      "execution_count": null,
      "outputs": []
    },
    {
      "cell_type": "code",
      "source": [
        "#Q3\n",
        "\n",
        "import pandas as pd\n",
        "import numpy as np\n",
        "\n",
        "columns = ['column_1', 'column_2', 'column_3', 'column_4', 'column_5', 'column_6']\n",
        "indices = [1, 2, 3, 4, 5, 6]\n",
        "df1 = pd.DataFrame(np.random.rand(6, 6), columns=columns, index=indices)\n",
        "reindex = [3, 0, 1, 2]\n",
        "new_df = df1.reindex(reindex)\n",
        "print(new_df)\n"
      ],
      "metadata": {
        "colab": {
          "base_uri": "https://localhost:8080/"
        },
        "id": "7YIvgd0cV3lF",
        "outputId": "4ca28ea1-2132-4429-8d4e-e0fe7e19c625"
      },
      "execution_count": null,
      "outputs": [
        {
          "output_type": "stream",
          "name": "stdout",
          "text": [
            "   column_1  column_2  column_3  column_4  column_5  column_6\n",
            "3  0.002649  0.851143  0.386248  0.476164  0.745911  0.917127\n",
            "0       NaN       NaN       NaN       NaN       NaN       NaN\n",
            "1  0.845516  0.842560  0.238767  0.276235  0.834765  0.010511\n",
            "2  0.863850  0.364682  0.905046  0.515220  0.099367  0.134769\n"
          ]
        }
      ]
    },
    {
      "cell_type": "code",
      "source": [
        "print(new_df.loc[2])\n",
        "print(new_df.iloc[2])"
      ],
      "metadata": {
        "colab": {
          "base_uri": "https://localhost:8080/"
        },
        "id": "OxzMk8W7V3oe",
        "outputId": "1ce3cf65-7757-46f0-b7a2-5ada89f67c80"
      },
      "execution_count": null,
      "outputs": [
        {
          "output_type": "stream",
          "name": "stdout",
          "text": [
            "column_1    0.863850\n",
            "column_2    0.364682\n",
            "column_3    0.905046\n",
            "column_4    0.515220\n",
            "column_5    0.099367\n",
            "column_6    0.134769\n",
            "Name: 2, dtype: float64\n",
            "column_1    0.845516\n",
            "column_2    0.842560\n",
            "column_3    0.238767\n",
            "column_4    0.276235\n",
            "column_5    0.834765\n",
            "column_6    0.010511\n",
            "Name: 1, dtype: float64\n"
          ]
        }
      ]
    },
    {
      "cell_type": "code",
      "source": [
        "\"\"\" loc[] is label-based → It selects data based on the original index label, even if the order changes.\n",
        "iloc[] is position-based → It selects data based on the new row position, ignoring labels. \"\"\""
      ],
      "metadata": {
        "id": "CRh9AOEoW1Jq"
      },
      "execution_count": null,
      "outputs": []
    },
    {
      "cell_type": "code",
      "source": [
        "#Q4\n",
        "\n",
        "import pandas as pd\n",
        "import numpy as np\n",
        "\n",
        "columns = ['column_1', 'column_2', 'column_3', 'column_4', 'column_5', 'column_6']\n",
        "indices = [1, 2, 3, 4, 5, 6]\n",
        "df1 = pd.DataFrame(np.random.rand(6, 6), columns=columns, index=indices)\n",
        "\n",
        "column_means = df1.mean()\n",
        "print(\"Mean of each column:\\n\", column_means)\n",
        "\n",
        "column_2_std = df1['column_2'].std()\n",
        "print(\"\\nStandard Deviation of column_2:\", column_2_std)\n"
      ],
      "metadata": {
        "colab": {
          "base_uri": "https://localhost:8080/"
        },
        "id": "fHDYHrRFZnri",
        "outputId": "b7435a3f-3f0f-4167-b3ae-5e8fc745b167"
      },
      "execution_count": null,
      "outputs": [
        {
          "output_type": "stream",
          "name": "stdout",
          "text": [
            "Mean of each column:\n",
            " column_1    0.456620\n",
            "column_2    0.484618\n",
            "column_3    0.438846\n",
            "column_4    0.439785\n",
            "column_5    0.484360\n",
            "column_6    0.445579\n",
            "dtype: float64\n",
            "\n",
            "Standard Deviation of column_2: 0.3156243993771616\n"
          ]
        }
      ]
    },
    {
      "cell_type": "code",
      "source": [
        "#Q5\n",
        "\n",
        "import pandas as pd\n",
        "import numpy as np\n",
        "\n",
        "columns = ['column_1', 'column_2', 'column_3', 'column_4', 'column_5', 'column_6']\n",
        "indices = [1, 2, 3, 4, 5, 6]\n",
        "df1 = pd.DataFrame(np.random.rand(6, 6), columns=columns, index=indices)\n",
        "df1.loc[2, 'column_2'] = \"invalid_data\"\n",
        "try:\n",
        "    mean_column_2 = df1['column_2'].mean()\n",
        "    print(\"\\nMean of column_2:\", mean_column_2)\n",
        "except Exception as e:\n",
        "    print(\"\\nError:\", e)\n"
      ],
      "metadata": {
        "colab": {
          "base_uri": "https://localhost:8080/"
        },
        "id": "SxE18xz4ZnvA",
        "outputId": "de64c808-41f7-4a54-b1a1-664478c6c73a"
      },
      "execution_count": null,
      "outputs": [
        {
          "output_type": "stream",
          "name": "stdout",
          "text": [
            "\n",
            "Error: unsupported operand type(s) for +: 'float' and 'str'\n"
          ]
        },
        {
          "output_type": "stream",
          "name": "stderr",
          "text": [
            "<ipython-input-30-822720c2cef2>:9: FutureWarning: Setting an item of incompatible dtype is deprecated and will raise an error in a future version of pandas. Value 'invalid_data' has dtype incompatible with float64, please explicitly cast to a compatible dtype first.\n",
            "  df1.loc[2, 'column_2'] = \"invalid_data\"\n"
          ]
        }
      ]
    },
    {
      "cell_type": "code",
      "source": [
        "\"\"\" Reason of Error Occurance:\n",
        "Pandas' mean() function only works on numeric data.\n",
        "Inserting a string converts column_2 into an \"object\" dtype (mixed types).\n",
        "Python cannot perform mathematical operations on strings and numbers together.\"\"\""
      ],
      "metadata": {
        "id": "kOzlte5OaIp9"
      },
      "execution_count": null,
      "outputs": []
    },
    {
      "cell_type": "code",
      "source": [
        "#Q6\n",
        "\n",
        "\"\"\" A window function in Pandas allows you to perform calculations over a sliding window of data rather than the entire dataset at once.\n",
        "These functions help analyze trends and patterns in time-series or sequential data by applying operations like moving averages, cumulative sums,\n",
        "and rolling statistics.\n",
        "    Pandas provides window functions primarily through the rolling() : mean(), sum(), std(), min(), max(), count(). ; expanding(), and ewm() methods. \"\"\""
      ],
      "metadata": {
        "id": "l5RM36_5bPZk"
      },
      "execution_count": null,
      "outputs": []
    },
    {
      "cell_type": "code",
      "source": [
        "#Q7\n",
        "\n",
        "import pandas as pd\n",
        "\n",
        "current_date = pd.Timestamp.now()\n",
        "current_month = current_date.month\n",
        "current_year = current_date.year\n",
        "\n",
        "print(\"Current Month:\", current_month)\n",
        "print(\"Current Year:\", current_year)\n"
      ],
      "metadata": {
        "colab": {
          "base_uri": "https://localhost:8080/"
        },
        "id": "qJVKM2f-bPcV",
        "outputId": "135e68ba-951b-490d-e90e-999e7b652902"
      },
      "execution_count": null,
      "outputs": [
        {
          "output_type": "stream",
          "name": "stdout",
          "text": [
            "Current Month: 3\n",
            "Current Year: 2025\n"
          ]
        }
      ]
    },
    {
      "cell_type": "code",
      "source": [
        "#Q8\n",
        "\n",
        "import pandas as pd\n",
        "\n",
        "date1_str = input(\"Enter the first date (YYYY-MM-DD): \")\n",
        "date2_str = input(\"Enter the second date (YYYY-MM-DD): \")\n",
        "date1 = pd.Timestamp(date1_str)\n",
        "date2 = pd.Timestamp(date2_str)\n",
        "time_diff = abs(date2 - date1)\n",
        "days = time_diff.days\n",
        "hours = time_diff.seconds\n",
        "minutes = (time_diff.seconds % 3600)\n",
        "\n",
        "print(f\"\\nDifference between dates:\")\n",
        "print(f\"Days: {days}\")\n",
        "print(f\"Hours: {hours}\")\n",
        "print(f\"Minutes: {minutes}\")\n"
      ],
      "metadata": {
        "colab": {
          "base_uri": "https://localhost:8080/"
        },
        "id": "wkxF41uybPfr",
        "outputId": "4371bb04-9bfb-404a-b58d-d0d19dc4ab92"
      },
      "execution_count": null,
      "outputs": [
        {
          "output_type": "stream",
          "name": "stdout",
          "text": [
            "Enter the first date (YYYY-MM-DD): 2025-03-19\n",
            "Enter the second date (YYYY-MM-DD): 2025-4-03\n",
            "\n",
            "Difference between dates:\n",
            "Days: 15\n",
            "Hours: 0\n",
            "Minutes: 0\n"
          ]
        }
      ]
    },
    {
      "cell_type": "code",
      "source": [
        "#Q9\n",
        "\n",
        "import pandas as pd\n",
        "\n",
        "file_path = input(\"Enter the CSV file path: \")\n",
        "column_name = input(\"Enter the column name to convert to categorical: \")\n",
        "category_order = input(\"Enter category order (comma-separated values): \").split(',')\n",
        "df = pd.read_csv(file_path)\n",
        "df[column_name] = pd.Categorical(df[column_name], categories=category_order, ordered=True)\n",
        "df_sorted = df.sort_values(by=column_name)\n",
        "print(\"\\nSorted DataFrame:\")\n",
        "print(df_sorted)\n"
      ],
      "metadata": {
        "colab": {
          "base_uri": "https://localhost:8080/"
        },
        "id": "AzQb8002eS9q",
        "outputId": "5dfaf0bf-c2d2-42ef-e476-820929c4849d"
      },
      "execution_count": null,
      "outputs": [
        {
          "output_type": "stream",
          "name": "stdout",
          "text": [
            "Enter the CSV file path: /content/taxonomy.csv.xls\n",
            "Enter the column name to convert to categorical: parent_name\n",
            "Enter category order (comma-separated values): Care,Health,Money\n",
            "\n",
            "Sorted DataFrame:\n",
            "    taxonomy_id                          name parent_id parent_name\n",
            "200      108-07               Support Network       108        Care\n",
            "189      108-05         Navigating the System       108        Care\n",
            "184      108-04              End-of-Life Care       108        Care\n",
            "174      108-03                  Daytime Care       108        Care\n",
            "173      108-02                Animal Welfare       108        Care\n",
            "..          ...                           ...       ...         ...\n",
            "285   111-01-07              Workplace Rights    111-01         NaN\n",
            "286      111-02                     Mediation       111         NaN\n",
            "287      111-03                        Notary       111         NaN\n",
            "288      111-04                Representation       111         NaN\n",
            "289      111-05  Translation & Interpretation       111         NaN\n",
            "\n",
            "[290 rows x 4 columns]\n"
          ]
        }
      ]
    },
    {
      "cell_type": "code",
      "source": [
        "#Q10\n",
        "\n",
        "import pandas as pd\n",
        "import matplotlib.pyplot as plt\n",
        "\n",
        "# User input for CSV file path\n",
        "file_path = input(\"Enter the CSV file path: \")\n",
        "\n",
        "# Read the CSV file\n",
        "df = pd.read_csv(file_path)\n",
        "\n",
        "# Ensure the 'Date' column is in datetime format\n",
        "df['Date'] = pd.to_datetime(df['Date'])\n",
        "\n",
        "# Pivot the data to get sales per category over time\n",
        "df_pivot = df.pivot_table(index='Date', columns='Category', values='Sales', aggfunc='sum')\n",
        "\n",
        "# Plot the stacked bar chart\n",
        "df_pivot.plot(kind='bar', stacked=True, figsize=(12, 6), colormap=\"viridis\")\n",
        "\n",
        "# Customize the chart\n",
        "plt.title(\"Sales of Each Product Category Over Time\")\n",
        "plt.xlabel(\"Date\")\n",
        "plt.ylabel(\"Sales\")\n",
        "plt.legend(title=\"Product Category\")\n",
        "plt.xticks(rotation=45)\n",
        "\n",
        "# Show the plot\n",
        "plt.show()\n",
        "\n"
      ],
      "metadata": {
        "id": "D8hcEer3hvsa",
        "colab": {
          "base_uri": "https://localhost:8080/",
          "height": 681
        },
        "outputId": "cc888d26-3974-46dc-c22c-be38e7aa2b33"
      },
      "execution_count": 2,
      "outputs": [
        {
          "name": "stdout",
          "output_type": "stream",
          "text": [
            "Enter the CSV file path: /content/new data 1.csv\n"
          ]
        },
        {
          "output_type": "display_data",
          "data": {
            "text/plain": [
              "<Figure size 1200x600 with 1 Axes>"
            ],
            "image/png": "[encoded data removed]"
          },
          "metadata": {}
        }
      ]
    },
    {
      "cell_type": "code",
      "source": [
        "#Q11\n",
        "\n",
        "import pandas as pd\n",
        "from prettytable import PrettyTable\n",
        "\n",
        "def calculate_statistics(file_path):\n",
        "    df = pd.read_csv(file_path)\n",
        "    mean_score = df['Test Score'].mean()\n",
        "    median_score = df['Test Score'].median()\n",
        "    mode_score = df['Test Score'].mode().tolist()\n",
        "    mode_str = \", \".join(map(str, mode_score))\n",
        "    table = PrettyTable()\n",
        "    table.field_names = [\"Statistic\", \"Value\"]\n",
        "    table.add_row([\"Mean\", round(mean_score, 2)])\n",
        "    table.add_row([\"Median\", median_score])\n",
        "    table.add_row([\"Mode\", mode_str])\n",
        "    print(table)\n",
        "file_path = input(\"Enter the file path of the CSV file containing the student data: \")\n",
        "calculate_statistics(file_path)\n"
      ],
      "metadata": {
        "colab": {
          "base_uri": "https://localhost:8080/"
        },
        "id": "CoPHe-FRq60F",
        "outputId": "0eb2fc15-4268-41f5-a3d2-24fa09491b23"
      },
      "execution_count": 5,
      "outputs": [
        {
          "output_type": "stream",
          "name": "stdout",
          "text": [
            "Enter the file path of the CSV file containing the student data: /content/new data.csv\n",
            "+-----------+-------+\n",
            "| Statistic | Value |\n",
            "+-----------+-------+\n",
            "|    Mean   | 84.67 |\n",
            "|   Median  |  88.0 |\n",
            "|    Mode   |   85  |\n",
            "+-----------+-------+\n"
          ]
        }
      ]
    },
    {
      "cell_type": "code",
      "source": [],
      "metadata": {
        "id": "0aWar-LMwxey"
      },
      "execution_count": null,
      "outputs": []
    },
    {
      "cell_type": "code",
      "source": [],
      "metadata": {
        "id": "1Qh_4gF9rKuA"
      },
      "execution_count": null,
      "outputs": []
    }
  ]
}