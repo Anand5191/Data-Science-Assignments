{
  "nbformat": 4,
  "nbformat_minor": 0,
  "metadata": {
    "colab": {
      "provenance": []
    },
    "kernelspec": {
      "name": "python3",
      "display_name": "Python 3"
    },
    "language_info": {
      "name": "python"
    }
  },
  "cells": [
    {
      "cell_type": "code",
      "execution_count": null,
      "metadata": {
        "colab": {
          "base_uri": "https://localhost:8080/"
        },
        "id": "SjHcHwMM4u8h",
        "outputId": "118895ad-e4db-498f-e535-7fd2831d9ef7"
      },
      "outputs": [
        {
          "output_type": "stream",
          "name": "stdout",
          "text": [
            "0     4\n",
            "1     8\n",
            "2    15\n",
            "3    16\n",
            "4    23\n",
            "5    42\n",
            "dtype: int64\n"
          ]
        }
      ],
      "source": [
        "#Q1\n",
        "\n",
        "import pandas as pd\n",
        "\n",
        "data = pd.Series([4, 8, 15, 16, 23, 42])\n",
        "print(data)\n"
      ]
    },
    {
      "cell_type": "code",
      "source": [
        "#Q2\n",
        "\n",
        "import pandas as pd\n",
        "\n",
        "my_list = [1, 3, 5, 7, 9, 11, 13, 15, 17, 19]\n",
        "\n",
        "series_data = pd.Series(my_list)\n",
        "print(series_data)\n"
      ],
      "metadata": {
        "colab": {
          "base_uri": "https://localhost:8080/"
        },
        "id": "dkgOZPKE_tE-",
        "outputId": "cea8ca0c-96d9-4b82-dd80-2d6f17d2a519"
      },
      "execution_count": null,
      "outputs": [
        {
          "output_type": "stream",
          "name": "stdout",
          "text": [
            "0     1\n",
            "1     3\n",
            "2     5\n",
            "3     7\n",
            "4     9\n",
            "5    11\n",
            "6    13\n",
            "7    15\n",
            "8    17\n",
            "9    19\n",
            "dtype: int64\n"
          ]
        }
      ]
    },
    {
      "cell_type": "code",
      "source": [
        "#Q3\n",
        "\n",
        "import pandas as pd\n",
        "\n",
        "data = {\n",
        "    \"Name\": [\"Alice\", \"Bob\", \"Claire\"],\n",
        "    \"Age\": [25, 30, 27],\n",
        "    \"Gender\": [\"Female\", \"Male\", \"Female\"]\n",
        "}\n",
        "\n",
        "df = pd.DataFrame(data)\n",
        "print(df)\n"
      ],
      "metadata": {
        "colab": {
          "base_uri": "https://localhost:8080/"
        },
        "id": "LmUfh4yqARM1",
        "outputId": "9140623d-308a-4211-f7a2-38190159dc4a"
      },
      "execution_count": null,
      "outputs": [
        {
          "output_type": "stream",
          "name": "stdout",
          "text": [
            "     Name  Age  Gender\n",
            "0   Alice   25  Female\n",
            "1     Bob   30    Male\n",
            "2  Claire   27  Female\n"
          ]
        }
      ]
    },
    {
      "cell_type": "code",
      "source": [
        "#Q4\n",
        "\n",
        "\"\"\"A DataFrame in Pandas is a two-dimensional, table-like data structure with labeled rows and columns, similar to an Excel spreadsheet or an SQL table.\n",
        "It can hold multiple data types (integer, float, string, etc.) and is built using multiple Series.\n",
        "\n",
        "Difference Between                     Series                            and                        DataFrame\n",
        "Structure\t:                      One-dimensional (like a column)    --------------\tTwo-dimensional (rows and columns)\n",
        "Data Storage :                   Stores a single column of data     --------------\tStores multiple columns of data\n",
        "Data Type\t:                      Can have only one type per series  --------------\tCan have different types in different columns\n",
        "Example :                      \t [4, 8, 15, 16, 23, 42]\t            --------------  {\"Name\": [\"Alice\", \"Bob\"], \"Age\": [25, 30]} \"\"\"\n"
      ],
      "metadata": {
        "id": "nn63KN3LAksC"
      },
      "execution_count": null,
      "outputs": []
    },
    {
      "cell_type": "code",
      "source": [
        "#Example of Pandas Series:\n",
        "import pandas as pd\n",
        "\n",
        "# Creating a Series\n",
        "series_example = pd.Series([10, 20, 30, 40, 50])\n",
        "\n",
        "print(\"Pandas Series:\")\n",
        "print(series_example)"
      ],
      "metadata": {
        "colab": {
          "base_uri": "https://localhost:8080/"
        },
        "id": "pUY6NVNhCpTd",
        "outputId": "4f24b2ac-2393-49e3-8264-2e5f27b873a5"
      },
      "execution_count": null,
      "outputs": [
        {
          "output_type": "stream",
          "name": "stdout",
          "text": [
            "Pandas Series:\n",
            "0    10\n",
            "1    20\n",
            "2    30\n",
            "3    40\n",
            "4    50\n",
            "dtype: int64\n"
          ]
        }
      ]
    },
    {
      "cell_type": "code",
      "source": [
        "# Example of DataFrame\n",
        "data = {\n",
        "    \"Name\": [\"Alice\", \"Bob\", \"Claire\"],\n",
        "    \"Age\": [25, 30, 27],\n",
        "    \"Gender\": [\"Female\", \"Male\", \"Female\"]\n",
        "}\n",
        "\n",
        "df = pd.DataFrame(data)\n",
        "\n",
        "print(\"\\nPandas DataFrame:\")\n",
        "print(df)\n"
      ],
      "metadata": {
        "colab": {
          "base_uri": "https://localhost:8080/"
        },
        "id": "16v-AuO7CpXA",
        "outputId": "e8042181-b7eb-475a-c714-53a0dab7187e"
      },
      "execution_count": null,
      "outputs": [
        {
          "output_type": "stream",
          "name": "stdout",
          "text": [
            "\n",
            "Pandas DataFrame:\n",
            "     Name  Age  Gender\n",
            "0   Alice   25  Female\n",
            "1     Bob   30    Male\n",
            "2  Claire   27  Female\n"
          ]
        }
      ]
    },
    {
      "cell_type": "code",
      "source": [
        "#Q5\n",
        "\n",
        "\"\"\"df.head(n)\tDisplays the first n rows (default is 5).\n",
        "df.tail(n)\tDisplays the last n row.\n",
        "df.info()\t\tChecking column names, data types, and missing values.\n",
        "df.describe()\tGenerates statistics (mean, min, max, etc.) for numerical columns.\n",
        "df.shape\tReturns the number of rows and columns\tChecking dataset size.\n",
        "df.columns\tReturns a list of column names.\n",
        "df.dtypes\tReturns data types of each column.\n",
        "df.isnull().sum()\tChecks for missing values in each column.\n",
        "df.drop(columns=[\"col\"])\tRemoves a specific column.\n",
        "df.fillna(value)\tReplaces missing values with a given value.\n",
        "df.groupby(\"column\").mean()\tGroups data by a column and calculates the mean.\n",
        "df.sort_values(\"column\", ascending=False)\tSorts the DataFrame by a column.\n",
        "df[\"new_col\"] = df[\"col1\"] + df[\"col2\"]\tCreates a new column.\n",
        "df.apply(function, axis=1 or 0)\tApplies a function to rows/columns.\"\"\""
      ],
      "metadata": {
        "id": "CXqoZYqvC47L"
      },
      "execution_count": null,
      "outputs": []
    },
    {
      "cell_type": "code",
      "source": [
        "# Example :\n",
        "\n",
        "import pandas as pd\n",
        "\n",
        "data = {'Student': ['Alice', 'Bob', 'Charlie', 'David'],\n",
        "        'Score': [85, 92, 78, 90]}\n",
        "\n",
        "df = pd.DataFrame(data)\n",
        "df_sorted = df.sort_values(by='Score', ascending=False)\n",
        "print(df_sorted)\n"
      ],
      "metadata": {
        "id": "-s7QNr8jEIa4",
        "colab": {
          "base_uri": "https://localhost:8080/"
        },
        "outputId": "7ed8aaf1-1c5d-486e-dc8d-edef93631782"
      },
      "execution_count": 9,
      "outputs": [
        {
          "output_type": "stream",
          "name": "stdout",
          "text": [
            "   Student  Score\n",
            "1      Bob     92\n",
            "3    David     90\n",
            "0    Alice     85\n",
            "2  Charlie     78\n"
          ]
        }
      ]
    },
    {
      "cell_type": "code",
      "source": [
        "#Q6\n",
        "\n",
        "\"\"\"In Pandas, Series, DataFrame, and Panel are all mutable in nature.\n",
        "\n",
        "Series (Mutable) – The values inside a Series can be modified, but its size (length) is fixed once created.\n",
        "DataFrame (Mutable) – Both the data and structure (columns, rows) of a DataFrame can be modified.\n",
        "Panel (Mutable) – Before being deprecated, Panel was also mutable, similar to DataFrame.\"\"\""
      ],
      "metadata": {
        "id": "TXLhPs78EIeU",
        "colab": {
          "base_uri": "https://localhost:8080/",
          "height": 72
        },
        "outputId": "a9c4086b-ee17-46e7-a190-246a76d2a413"
      },
      "execution_count": 10,
      "outputs": [
        {
          "output_type": "execute_result",
          "data": {
            "text/plain": [
              "'In Pandas, Series, DataFrame, and Panel are all mutable in nature.\\n\\nSeries (Mutable) – The values inside a Series can be modified, but its size (length) is fixed once created.\\nDataFrame (Mutable) – Both the data and structure (columns, rows) of a DataFrame can be modified.\\nPanel (Mutable) – Before being deprecated, Panel was also mutable, similar to DataFrame.'"
            ],
            "application/vnd.google.colaboratory.intrinsic+json": {
              "type": "string"
            }
          },
          "metadata": {},
          "execution_count": 10
        }
      ]
    },
    {
      "cell_type": "code",
      "source": [
        "#Q7\n",
        "\n",
        "import pandas as pd\n",
        "\n",
        "names = pd.Series([\"Annant\", \"Mayuri\", \"Aradhya\", \"Samarth\"])\n",
        "ages = pd.Series([25, 30, 22, 28])\n",
        "scores = pd.Series([85, 90, 78, 88])\n",
        "\n",
        "df = pd.DataFrame({\n",
        "    'Name': names,\n",
        "    'Age': ages,\n",
        "    'Score': scores\n",
        "})\n",
        "\n",
        "print(df)\n"
      ],
      "metadata": {
        "colab": {
          "base_uri": "https://localhost:8080/"
        },
        "id": "z9RkmG-qMs3l",
        "outputId": "c5b460e2-c0d3-4032-d253-48847bb48b6d"
      },
      "execution_count": 11,
      "outputs": [
        {
          "output_type": "stream",
          "name": "stdout",
          "text": [
            "      Name  Age  Score\n",
            "0   Annant   25     85\n",
            "1   Mayuri   30     90\n",
            "2  Aradhya   22     78\n",
            "3  Samarth   28     88\n"
          ]
        }
      ]
    },
    {
      "cell_type": "code",
      "source": [],
      "metadata": {
        "id": "mEZ5xhptMuzs"
      },
      "execution_count": null,
      "outputs": []
    },
    {
      "cell_type": "code",
      "source": [],
      "metadata": {
        "id": "e6zECSPZMu2n"
      },
      "execution_count": null,
      "outputs": []
    },
    {
      "cell_type": "code",
      "source": [],
      "metadata": {
        "id": "8Ptg52TqMu5V"
      },
      "execution_count": null,
      "outputs": []
    },
    {
      "cell_type": "code",
      "source": [],
      "metadata": {
        "id": "t4QcSThhMu8u"
      },
      "execution_count": null,
      "outputs": []
    }
  ]
}