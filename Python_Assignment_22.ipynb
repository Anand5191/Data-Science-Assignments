{
  "nbformat": 4,
  "nbformat_minor": 0,
  "metadata": {
    "colab": {
      "provenance": []
    },
    "kernelspec": {
      "name": "python3",
      "display_name": "Python 3"
    },
    "language_info": {
      "name": "python"
    }
  },
  "cells": [
    {
      "cell_type": "code",
      "execution_count": 2,
      "metadata": {
        "colab": {
          "base_uri": "https://localhost:8080/"
        },
        "id": "r0FmOeQHcXx-",
        "outputId": "57e261d2-31ae-4a8c-86a9-fa2611f47336"
      },
      "outputs": [
        {
          "output_type": "stream",
          "name": "stdout",
          "text": [
            "Data type of list_ elements: <class 'str'>\n",
            "Data type of array_list elements: <U1\n"
          ]
        }
      ],
      "source": [
        "# Q1\n",
        "\n",
        "import numpy as np\n",
        "\n",
        "list_ = ['1', '2', '3', '4', '5']\n",
        "array_list = np.array(object=list_)\n",
        "\n",
        "print(\"Data type of list_ elements:\", type(list_[0]))\n",
        "print(\"Data type of array_list elements:\", array_list.dtype)\n",
        "\n",
        "# This confirms that while list_ is a standard Python list containing str elements.\n",
        "# Aarray_list is a NumPy array with a data type of Unicode strings (<U1).\n"
      ]
    },
    {
      "cell_type": "code",
      "source": [
        "# Q2\n",
        "\n",
        "import numpy as np\n",
        "\n",
        "list_ = ['1', '2', '3', '4', '5']\n",
        "array_list = np.array(object=list_)\n",
        "\n",
        "\n",
        "print(\"Data types of elements in list_:\")\n",
        "for element in list_:\n",
        "    print(f\"Element: {element}, Type: {type(element)}\")\n",
        "\n",
        "print(\"\\nData types of elements in array_list:\")\n",
        "for element in array_list:\n",
        "    print(f\"Element: {element}, Type: {type(element)}\")\n",
        "\n",
        "# The elements in list_ are of type str (Python string).\n",
        "\n",
        "# The elements in array_list are of type numpy.str_ (NumPy string type).\n"
      ],
      "metadata": {
        "colab": {
          "base_uri": "https://localhost:8080/"
        },
        "id": "rfOqwnSndDz6",
        "outputId": "f30442d7-f36a-4c5e-a167-825555e0ca2e"
      },
      "execution_count": 3,
      "outputs": [
        {
          "output_type": "stream",
          "name": "stdout",
          "text": [
            "Data types of elements in list_:\n",
            "Element: 1, Type: <class 'str'>\n",
            "Element: 2, Type: <class 'str'>\n",
            "Element: 3, Type: <class 'str'>\n",
            "Element: 4, Type: <class 'str'>\n",
            "Element: 5, Type: <class 'str'>\n",
            "\n",
            "Data types of elements in array_list:\n",
            "Element: 1, Type: <class 'numpy.str_'>\n",
            "Element: 2, Type: <class 'numpy.str_'>\n",
            "Element: 3, Type: <class 'numpy.str_'>\n",
            "Element: 4, Type: <class 'numpy.str_'>\n",
            "Element: 5, Type: <class 'numpy.str_'>\n"
          ]
        }
      ]
    },
    {
      "cell_type": "code",
      "source": [
        "# Q3\n",
        "\n",
        "import numpy as np\n",
        "\n",
        "list_ = ['1', '2', '3', '4', '5']\n",
        "array_list = np.array(object=list_, dtype=int)\n",
        "\n",
        "print(\"Data types of elements in list_:\")\n",
        "for element in list_:\n",
        "    print(f\"Element: {element}, Type: {type(element)}\")\n",
        "\n",
        "print(\"\\nData types of elements in array_list:\")\n",
        "for element in array_list:\n",
        "    print(f\"Element: {element}, Type: {type(element)}\")\n",
        "\n",
        "# list_ elements remain str (Python strings).\n",
        "\n",
        "# array_list elements are now converted to numpy.int64 (or numpy.int32 on some systems), which are integers.\n",
        "\n",
        "\n"
      ],
      "metadata": {
        "colab": {
          "base_uri": "https://localhost:8080/"
        },
        "id": "eBCEqvfHdidc",
        "outputId": "7d6618f5-c376-46f8-8fc0-e456f97e78e4"
      },
      "execution_count": 4,
      "outputs": [
        {
          "output_type": "stream",
          "name": "stdout",
          "text": [
            "Data types of elements in list_:\n",
            "Element: 1, Type: <class 'str'>\n",
            "Element: 2, Type: <class 'str'>\n",
            "Element: 3, Type: <class 'str'>\n",
            "Element: 4, Type: <class 'str'>\n",
            "Element: 5, Type: <class 'str'>\n",
            "\n",
            "Data types of elements in array_list:\n",
            "Element: 1, Type: <class 'numpy.int64'>\n",
            "Element: 2, Type: <class 'numpy.int64'>\n",
            "Element: 3, Type: <class 'numpy.int64'>\n",
            "Element: 4, Type: <class 'numpy.int64'>\n",
            "Element: 5, Type: <class 'numpy.int64'>\n"
          ]
        }
      ]
    },
    {
      "cell_type": "code",
      "source": [
        "# Q4\n",
        "\n",
        "import numpy as np\n",
        "\n",
        "num_array = np.array([[1, 2, 3], [4, 5, 6]])\n",
        "\n",
        "print(\"Shape of num_array:\", num_array.shape)\n",
        "print(\"Size of num_array:\", num_array.size)\n"
      ],
      "metadata": {
        "colab": {
          "base_uri": "https://localhost:8080/"
        },
        "id": "a9epBSrzeEDu",
        "outputId": "4d2b1bc1-28a3-43e6-cc9e-034c05198364"
      },
      "execution_count": 5,
      "outputs": [
        {
          "output_type": "stream",
          "name": "stdout",
          "text": [
            "Shape of num_array: (2, 3)\n",
            "Size of num_array: 6\n"
          ]
        }
      ]
    },
    {
      "cell_type": "code",
      "source": [
        "# Q5\n",
        "\n",
        "import numpy as np\n",
        "\n",
        "zero_matrix = np.zeros((3, 3))\n",
        "\n",
        "print(\"3x3 Zero Matrix:\\n\", zero_matrix)\n"
      ],
      "metadata": {
        "colab": {
          "base_uri": "https://localhost:8080/"
        },
        "id": "nKf85hkLeWyo",
        "outputId": "192a0b5a-4218-4f20-bac9-8b5b04abab49"
      },
      "execution_count": 8,
      "outputs": [
        {
          "output_type": "stream",
          "name": "stdout",
          "text": [
            "3x3 Zero Matrix:\n",
            " [[0. 0. 0.]\n",
            " [0. 0. 0.]\n",
            " [0. 0. 0.]]\n"
          ]
        }
      ]
    },
    {
      "cell_type": "code",
      "source": [
        "# Q6\n",
        "\n",
        "import numpy as np\n",
        "\n",
        "identity_matrix = np.eye(5)\n",
        "\n",
        "print(\"5x5 Identity Matrix:\\n\", identity_matrix)\n"
      ],
      "metadata": {
        "colab": {
          "base_uri": "https://localhost:8080/"
        },
        "id": "eWMKuCJMe2bV",
        "outputId": "08ba5ce3-90f0-4091-ee4b-5237b29d6975"
      },
      "execution_count": 9,
      "outputs": [
        {
          "output_type": "stream",
          "name": "stdout",
          "text": [
            "5x5 Identity Matrix:\n",
            " [[1. 0. 0. 0. 0.]\n",
            " [0. 1. 0. 0. 0.]\n",
            " [0. 0. 1. 0. 0.]\n",
            " [0. 0. 0. 1. 0.]\n",
            " [0. 0. 0. 0. 1.]]\n"
          ]
        }
      ]
    },
    {
      "cell_type": "code",
      "source": [],
      "metadata": {
        "id": "I2AbMXIbfPHP"
      },
      "execution_count": null,
      "outputs": []
    }
  ]
}