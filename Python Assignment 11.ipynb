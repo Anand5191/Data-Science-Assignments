{
  "nbformat": 4,
  "nbformat_minor": 0,
  "metadata": {
    "colab": {
      "provenance": []
    },
    "kernelspec": {
      "name": "python3",
      "display_name": "Python 3"
    },
    "language_info": {
      "name": "python"
    }
  },
  "cells": [
    {
      "cell_type": "code",
      "execution_count": null,
      "metadata": {
        "id": "wJH3xFvJRutf"
      },
      "outputs": [],
      "source": [
        "# Q1\n",
        "\n",
        "Multiprocessing refers to the ability of a system to support more than one processor at the same time.\n",
        "Applications in a multiprocessing system are broken to smaller routines that run independently.\n",
        "The operating system allocates these threads to the processors improving performance of the system.\n",
        "Consider a computer system with a single processor. If it is assigned several processes at the same time,\n",
        "it will have to interrupt each task and switch briefly to another, to keep all of the processes going.\n",
        "\n",
        "    Multiprocessing may significantly improve a program's efficiency by doing numerous processes concurrently rather than sequentially.\n",
        "Multithreading is a similar concept, however it is not synonymous. A process is a program that is put into memory and runs independently of other processes.\n",
        "A thread is a unit of execution that runs within a process. A process has many threads that share the same memory area.\n",
        "\n",
        "\n"
      ]
    },
    {
      "cell_type": "code",
      "source": [
        "# Q2\n",
        "\n",
        "Multiprocessing :\n",
        "1) In Multiprocessing, CPUs are added for increasing computing power.\n",
        "2) In Multiprocessing, Many processes are executed simultaneously.\n",
        "3) Multiprocessing are classified into Symmetric and Asymmetric.\n",
        "4) In Multiprocessing, Process creation is a time-consuming process.\n",
        "5) In Multiprocessing, every process owned a separate address space.\n",
        "\n",
        "Multithreading:\n",
        "1) While In Multithreading, many threads are created of a single process for increasing computing power.\n",
        "2) While in multithreading, many threads of a process are executed simultaneously.\n",
        "3) While Multithreading is not classified in any categories.\n",
        "4) While in Multithreading, process creation is according to economical.\n",
        "5) While in Multithreading, a common address space is shared by all the threads."
      ],
      "metadata": {
        "id": "UBk0OrgYUYOJ"
      },
      "execution_count": null,
      "outputs": []
    },
    {
      "cell_type": "code",
      "source": [
        "# Q3\n",
        "\n",
        "from multiprocessing import Process\n",
        "\n",
        "def print_numbers():\n",
        "    for i in range(5):\n",
        "        print(i)\n",
        "\n",
        "p = Process(target=print_numbers)\n",
        "p.start()\n",
        "p.join()\n"
      ],
      "metadata": {
        "colab": {
          "base_uri": "https://localhost:8080/"
        },
        "id": "4wGr2K0kUYRi",
        "outputId": "009e48fe-474a-4f96-e031-3000170efbf8"
      },
      "execution_count": null,
      "outputs": [
        {
          "output_type": "stream",
          "name": "stdout",
          "text": [
            "0\n",
            "1\n",
            "2\n",
            "3\n",
            "4\n"
          ]
        }
      ]
    },
    {
      "cell_type": "code",
      "source": [
        "# Q4\n",
        "\n",
        "The Python multiprocessing module provides a powerful way to achieve parallelism by using subprocesses instead of threads.\n",
        "A prime example of this is the Pool object which offers a convenient means of parallelizing the execution of a function across multiple input values,\n",
        "distributing the input data across processes (data parallelism).\n",
        "\n",
        "The pool can provide a generic interface for executing ad hoc tasks with a variable number of arguments, much like the target property on the Process object,\n",
        "but does not require that we choose a process to run the task, start the process, or wait for the task to complete.\n",
        "\n"
      ],
      "metadata": {
        "id": "q0Jss4-9XCnx"
      },
      "execution_count": null,
      "outputs": []
    },
    {
      "cell_type": "code",
      "source": [
        "# Q5\n",
        "\n",
        "from multiprocessing import Pool, Process\n",
        "\n",
        "class Worker(Process):\n",
        "    def __init__(self):\n",
        "        print ('Worker started')\n",
        "        super(Worker, self).__init__()\n",
        "\n",
        "    def compute(self, data):\n",
        "        print ('Computing things!')\n",
        "        return data * data\n",
        "\n",
        "if __name__ == '__main__':\n",
        "    worker = Worker()\n",
        "    print(worker.compute(3))\n",
        "\n",
        "    pool = Pool(processes = 4, initializer = Worker)\n",
        "    data = range(10)\n",
        "    result = pool.map(compute, data)\n"
      ],
      "metadata": {
        "colab": {
          "base_uri": "https://localhost:8080/",
          "height": 309
        },
        "id": "XMBKrKNzaoSP",
        "outputId": "3e1a00ac-1ea7-4b80-feb5-936c2d2b17e3"
      },
      "execution_count": null,
      "outputs": [
        {
          "output_type": "stream",
          "name": "stdout",
          "text": [
            "Worker started\n",
            "Computing things!\n",
            "9\n",
            "Worker started\n",
            "Worker startedWorker started\n",
            "\n",
            "Worker started\n"
          ]
        },
        {
          "output_type": "error",
          "ename": "NameError",
          "evalue": "name 'compute' is not defined",
          "traceback": [
            "\u001b[0;31m---------------------------------------------------------------------------\u001b[0m",
            "\u001b[0;31mNameError\u001b[0m                                 Traceback (most recent call last)",
            "\u001b[0;32m<ipython-input-18-f6e5d13b84af>\u001b[0m in \u001b[0;36m<cell line: 14>\u001b[0;34m()\u001b[0m\n\u001b[1;32m     18\u001b[0m     \u001b[0mpool\u001b[0m \u001b[0;34m=\u001b[0m \u001b[0mPool\u001b[0m\u001b[0;34m(\u001b[0m\u001b[0mprocesses\u001b[0m \u001b[0;34m=\u001b[0m \u001b[0;36m4\u001b[0m\u001b[0;34m,\u001b[0m \u001b[0minitializer\u001b[0m \u001b[0;34m=\u001b[0m \u001b[0mWorker\u001b[0m\u001b[0;34m)\u001b[0m\u001b[0;34m\u001b[0m\u001b[0;34m\u001b[0m\u001b[0m\n\u001b[1;32m     19\u001b[0m     \u001b[0mdata\u001b[0m \u001b[0;34m=\u001b[0m \u001b[0mrange\u001b[0m\u001b[0;34m(\u001b[0m\u001b[0;36m10\u001b[0m\u001b[0;34m)\u001b[0m\u001b[0;34m\u001b[0m\u001b[0;34m\u001b[0m\u001b[0m\n\u001b[0;32m---> 20\u001b[0;31m     \u001b[0mresult\u001b[0m \u001b[0;34m=\u001b[0m \u001b[0mpool\u001b[0m\u001b[0;34m.\u001b[0m\u001b[0mmap\u001b[0m\u001b[0;34m(\u001b[0m\u001b[0;34m(\u001b[0m\u001b[0mcompute\u001b[0m\u001b[0;34m,\u001b[0m \u001b[0mdata\u001b[0m\u001b[0;34m)\u001b[0m\u001b[0;34m)\u001b[0m\u001b[0;34m\u001b[0m\u001b[0;34m\u001b[0m\u001b[0m\n\u001b[0m",
            "\u001b[0;31mNameError\u001b[0m: name 'compute' is not defined"
          ]
        }
      ]
    },
    {
      "cell_type": "code",
      "source": [],
      "metadata": {
        "id": "NMbRq9ZqGC6-"
      },
      "execution_count": null,
      "outputs": []
    },
    {
      "cell_type": "code",
      "source": [
        "# Q6\n",
        "\n",
        "import multiprocessing\n",
        "\n",
        "def print_cube(num):\n",
        "    print(\"Cube: {}\".format(num * num * num))\n",
        "\n",
        "def print_square(num):\n",
        "    print(\"Square: {}\".format(num * num))\n",
        "\n",
        "def print_addition(num):\n",
        "    print(\"Addition: {}\".format(num + num))\n",
        "\n",
        "def print_substraction(num):\n",
        "    print(\"Substraction: {}\".format(num - num))\n",
        "\n",
        "\n",
        "if __name__ == \"__main__\":\n",
        "\n",
        "    p1 = multiprocessing.Process(target=print_square, args=(10, ))\n",
        "    p2 = multiprocessing.Process(target=print_cube, args=(10, ))\n",
        "    p3 = multiprocessing.Process(target=print_addition, args= (10, ))\n",
        "    p4 = multiprocessing.Process(target=print_substraction, args=(10, ))\n",
        "\n",
        "\n",
        "\n",
        "    p1.start()\n",
        "\n",
        "    p2.start()\n",
        "\n",
        "    p3.start()\n",
        "\n",
        "    p4.start()\n",
        "\n",
        "\n",
        "\n",
        "    p1.join()\n",
        "\n",
        "    p2.join()\n",
        "\n",
        "    p3.join()\n",
        "\n",
        "    p4.join()\n",
        "\n",
        "\n",
        "    print(\"Done!\")\n"
      ],
      "metadata": {
        "colab": {
          "base_uri": "https://localhost:8080/"
        },
        "id": "I1JqvKAAGN0C",
        "outputId": "8bd55801-dbd8-43ad-f15c-7683b0dd9e42"
      },
      "execution_count": null,
      "outputs": [
        {
          "output_type": "stream",
          "name": "stdout",
          "text": [
            "Square: 100\n",
            "Cube: 1000\n",
            "Addition: 20\n",
            "Substraction: 0\n",
            "Done!\n"
          ]
        }
      ]
    },
    {
      "cell_type": "code",
      "source": [],
      "metadata": {
        "id": "vtnjVw-uGPAo"
      },
      "execution_count": null,
      "outputs": []
    }
  ]
}
