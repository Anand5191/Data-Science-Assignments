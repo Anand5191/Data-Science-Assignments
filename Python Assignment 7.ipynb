{
 "cells": [
  {
   "cell_type": "code",
   "execution_count": 2,
   "id": "675b16ee-57a1-4164-a571-07815332ec29",
   "metadata": {},
   "outputs": [
    {
     "data": {
      "text/plain": [
       "'\\nAbstraction in object-oriented programming (OOP) simplifies complex systems by providing a simpler interface \\nwhile hiding irrelevant details from the user and show the details that are relevant to the users. \\n'"
      ]
     },
     "execution_count": 2,
     "metadata": {},
     "output_type": "execute_result"
    }
   ],
   "source": [
    "#Q 1\n",
    "\"\"\"\n",
    "Abstraction in object-oriented programming (OOP) simplifies complex systems by providing a simpler interface \n",
    "while hiding irrelevant details from the user and show the details that are relevant to the users. \n",
    "\"\"\""
   ]
  },
  {
   "cell_type": "code",
   "execution_count": 8,
   "id": "cd9b2d34-f4f3-4dbc-a56b-4533ca367428",
   "metadata": {},
   "outputs": [],
   "source": [
    "#Q1\n",
    "import abc\n",
    "\n",
    "class Pwskills():\n",
    "    \n",
    "    @abc.abstractmethod\n",
    "    def Data_science(self) :\n",
    "        pass\n",
    "    \n",
    "    @abc.abstractmethod\n",
    "    def Web_development(self) :\n",
    "        pass"
   ]
  },
  {
   "cell_type": "code",
   "execution_count": 9,
   "id": "b16ccf9d-d270-4549-bb21-ae3d76fa06bb",
   "metadata": {},
   "outputs": [],
   "source": [
    "class course_details(Pwskills) :\n",
    "    def Fees_of_Data_science(self) :\n",
    "        return (\"This is a method of taking fees of data science course\")\n",
    "    \n",
    "    def Fees_of_Web_developemnt(self):\n",
    "        return (\"This is method of taking fees of web development course\")\n",
    "    "
   ]
  },
  {
   "cell_type": "code",
   "execution_count": 11,
   "id": "5a4a0ee1-fe7c-4280-9378-6dd36e94fd11",
   "metadata": {},
   "outputs": [],
   "source": [
    "class mentor_list(Pwskills):\n",
    "    \n",
    "    def Mentor_of_Data_science (self) :\n",
    "        return (\"Printing mentor names of data science\")\n",
    "    \n",
    "    def Mentor_of_Web_development(self):\n",
    "        return (\"Printing mentor nname of web development\")"
   ]
  },
  {
   "cell_type": "code",
   "execution_count": null,
   "id": "d52bb63a-9a9c-4bf2-9189-bcea0e64e494",
   "metadata": {},
   "outputs": [],
   "source": [
    "#Q 2\n",
    "\"\"\"\n",
    "Abstraction is the process or method of gaining the information.\n",
    "While encapsulation is the process or method to contain the information into a single unit and providing this single unit to the user.\n",
    "\n",
    "Main feature of Abstraction: reduce complexity, promote maintainability, and also provide clear separation between the interface and its concrete implementation.\n",
    "Main feature of Encapsulation: Data hiding. It is a common practice to add data hiding in any real-world product to protect it from external world. In OOPs, this is done through specific access modifiers.\n",
    "\n",
    "Abstraction is the method of hiding the unwanted information.\n",
    "Whereas encapsulation is a method to hide the data in a single entity or unit along with a method to protect information from outside.\n",
    "\n",
    "We can implement abstraction using abstract class and interfaces.\n",
    "Whereas encapsulation can be implemented using by access modifier i.e. private, protected and public.\n",
    "\n",
    "In abstraction, implementation complexities are hidden using abstract classes and interfaces.\n",
    "While in encapsulation, the data is hidden using methods of getters and setters.\n",
    "\n",
    "Abstraction provides access to specific part of data.\n",
    "Encapsulation hides data and the user cannot access same directly (data hiding).\n",
    "\n",
    "Abstraction focus is on “what” should be done.\n",
    "Encapsulation focus is on “How” it should be done.\n",
    "\"\"\""
   ]
  },
  {
   "cell_type": "code",
   "execution_count": 14,
   "id": "cda5ce14-cff4-4e73-8643-404a151bf025",
   "metadata": {},
   "outputs": [],
   "source": [
    "#Q 2\n",
    "#Abstract\n",
    "\n",
    "import abc\n",
    "\n",
    "class car() :\n",
    "    def __init__(self, brand, model, year):\n",
    "        self.brand = brand\n",
    "        self.model = model \n",
    "        self.year = year \n",
    "        \n",
    "    @abc.abstractmethod\n",
    "    def print_details(self) :\n",
    "        pass\n",
    "    \n",
    "    def accelerate(self):\n",
    "        print(\"speed up\")\n",
    "        \n",
    "    def break_applied(self):\n",
    "        print(\"car stop\")\n",
    "        "
   ]
  },
  {
   "cell_type": "code",
   "execution_count": 15,
   "id": "a722e01f-055d-40cb-bbdf-be2b84e886b6",
   "metadata": {},
   "outputs": [],
   "source": [
    "class hatchback(car):\n",
    "    \n",
    "    def print_details(self):\n",
    "        print(\"brand:\", self.brand)\n",
    "        print(\"model:\", self.model)\n",
    "        print(\"year:\", self.year)"
   ]
  },
  {
   "cell_type": "code",
   "execution_count": 16,
   "id": "262f3895-0130-4d0a-8f17-ffbbddf9e920",
   "metadata": {},
   "outputs": [],
   "source": [
    "car1= hatchback(\"maruti\", \"alto\", 2024)"
   ]
  },
  {
   "cell_type": "code",
   "execution_count": 17,
   "id": "0584bc9d-d1d9-470e-aa00-61eb8062a93d",
   "metadata": {},
   "outputs": [
    {
     "name": "stdout",
     "output_type": "stream",
     "text": [
      "brand: maruti\n",
      "model: alto\n",
      "year: 2024\n",
      "speed up\n"
     ]
    }
   ],
   "source": [
    "car1.print_details()\n",
    "car1.accelerate()"
   ]
  },
  {
   "cell_type": "code",
   "execution_count": 31,
   "id": "de53a8b5-4824-4cbb-8aca-c041906daec8",
   "metadata": {},
   "outputs": [],
   "source": [
    "#Q 2\n",
    "#Encapsulation\n",
    "\n",
    "class bike :\n",
    "    \n",
    "    def __init__(self, year, brand, model, speed) :\n",
    "   \n",
    "\n",
    "        self.__year= year\n",
    "        self.__brand= brand\n",
    "        self.__model= model\n",
    "        self.__speed= 300\n",
    "    \n",
    "    def set_speed (self,speed) :\n",
    "        self.__speed = 0 if speed < 0 else speed\n",
    "        \n",
    "    def get_speed(self) :\n",
    "        return self.__speed\n"
   ]
  },
  {
   "cell_type": "code",
   "execution_count": 32,
   "id": "1afecb90-c323-4fed-a634-c5e21c30c47d",
   "metadata": {},
   "outputs": [],
   "source": [
    "bike1 = bike(2024,\"ktm\",\"duke\",300)"
   ]
  },
  {
   "cell_type": "code",
   "execution_count": 33,
   "id": "41e1d58a-9b41-47da-9dc6-97210d8a2f4a",
   "metadata": {},
   "outputs": [],
   "source": [
    "bike1.set_speed(500)"
   ]
  },
  {
   "cell_type": "code",
   "execution_count": 35,
   "id": "4d6b9e61-0d99-4b12-9513-a43b5380cd7a",
   "metadata": {},
   "outputs": [
    {
     "data": {
      "text/plain": [
       "500"
      ]
     },
     "execution_count": 35,
     "metadata": {},
     "output_type": "execute_result"
    }
   ],
   "source": [
    "bike1.get_speed()"
   ]
  },
  {
   "cell_type": "code",
   "execution_count": 36,
   "id": "079685cf-5401-4eff-9524-c09f83a5e319",
   "metadata": {},
   "outputs": [
    {
     "data": {
      "text/plain": [
       "\"\\nThe abc module in Python stands for Abstract Base Classes. It provides a way to define interfaces and enforce their \\nimplementation in concrete classes. Here are some key points about it:\\nThe main goal of abstract base classes is to provide a standardized way to test whether an object adheres \\nto a given specification. They can also prevent attempts to instantiate a subclass that doesn't override a particular\\nmethod in the superclass.\\nAbstract base classes are created by marking methods of the base class as abstract using the `@abstractmethod` decorator.\\nConcrete classes (subclasses) then implement the abstract base class by overriding its abstract methods.\\n\""
      ]
     },
     "execution_count": 36,
     "metadata": {},
     "output_type": "execute_result"
    }
   ],
   "source": [
    "#Q 3\n",
    "\"\"\"\n",
    "The abc module in Python stands for Abstract Base Classes. It provides a way to define interfaces and enforce their \n",
    "implementation in concrete classes. Here are some key points about it:\n",
    "The main goal of abstract base classes is to provide a standardized way to test whether an object adheres \n",
    "to a given specification. They can also prevent attempts to instantiate a subclass that doesn't override a particular\n",
    "method in the superclass.\n",
    "Abstract base classes are created by marking methods of the base class as abstract using the `@abstractmethod` decorator.\n",
    "Concrete classes (subclasses) then implement the abstract base class by overriding its abstract methods.\n",
    "\"\"\""
   ]
  },
  {
   "cell_type": "code",
   "execution_count": 37,
   "id": "973e4619-b40f-43cc-a8f8-9de0bb4e705a",
   "metadata": {},
   "outputs": [
    {
     "data": {
      "text/plain": [
       "'\\nIn Python, we can achieve data abstraction by using abstract classes and abstract classes can be created \\nusing abc (abstract base class) module and abstractmethod of abc module.\\nAbstract class is a class in which one or more abstract methods are defined. When a method is declared inside the class without\\nits implementation is known as abstract method.\\nAbstract class is a class in which one or more abstract methods are defined. When a method is declared inside the class without\\nits implementation is known as abstract method.\\nIn Python, abstract method feature is not a default feature. To create abstract method and abstract classes we have to \\nimport the “ABC” and “abstractmethod” classes from abc (Abstract Base Class) library. Abstract method of base class force its \\nchild class to write the implementation of the all abstract methods defined in base class.\\n'"
      ]
     },
     "execution_count": 37,
     "metadata": {},
     "output_type": "execute_result"
    }
   ],
   "source": [
    "#Q 4\n",
    "\"\"\"\n",
    "In Python, we can achieve data abstraction by using abstract classes and abstract classes can be created \n",
    "using abc (abstract base class) module and abstractmethod of abc module.\n",
    "Abstract class is a class in which one or more abstract methods are defined. When a method is declared inside the class without\n",
    "its implementation is known as abstract method.\n",
    "Abstract class is a class in which one or more abstract methods are defined. When a method is declared inside the class without\n",
    "its implementation is known as abstract method.\n",
    "In Python, abstract method feature is not a default feature. To create abstract method and abstract classes we have to \n",
    "import the “ABC” and “abstractmethod” classes from abc (Abstract Base Class) library. Abstract method of base class force its \n",
    "child class to write the implementation of the all abstract methods defined in base class.\n",
    "\"\"\"\n"
   ]
  },
  {
   "cell_type": "code",
   "execution_count": 41,
   "id": "6c4378a1-723e-4969-a1b3-bcd0da6c7ac6",
   "metadata": {},
   "outputs": [],
   "source": [
    "#Q 5\n",
    "\n",
    "import abc\n",
    "\n",
    "\n",
    "class Polygon():\n",
    "\n",
    "    @abstractmethod\n",
    "    def noofsides(self):\n",
    "        pass\n",
    "\n",
    "\n",
    "class Triangle(Polygon):\n",
    "    def noofsides(self):\n",
    "        print(\"I have 3 sides\")\n",
    "\n",
    "\n",
    "class Pentagon(Polygon):\n",
    "    def noofsides(self):\n",
    "        print(\"I have 5 sides\")\n",
    "\n",
    "\n",
    "class Hexagon(Polygon):\n",
    "    def noofsides(self):\n",
    "        print(\"I have 6 sides\")\n",
    "\n",
    "\n",
    "class Quadrilateral(Polygon):\n",
    "    def noofsides(self):\n",
    "        print(\"I have 4 sides\")\n"
   ]
  },
  {
   "cell_type": "code",
   "execution_count": 47,
   "id": "997ec9f5-4647-4056-b3ed-d770bb21d409",
   "metadata": {},
   "outputs": [],
   "source": [
    "Tri = Triangle()\n",
    "Quad = Quadrilateral()\n",
    "Penta = Pentagon()\n",
    "Hexa = Hexagon()"
   ]
  },
  {
   "cell_type": "code",
   "execution_count": 48,
   "id": "e8b169cc-e1c6-4164-abad-97436898a2cc",
   "metadata": {},
   "outputs": [
    {
     "name": "stdout",
     "output_type": "stream",
     "text": [
      "I have 3 sides\n",
      "I have 4 sides\n",
      "I have 5 sides\n",
      "I have 6 sides\n"
     ]
    }
   ],
   "source": [
    "Tri.noofsides()\n",
    "Quad.noofsides()\n",
    "Penta.noofsides()\n",
    "Hexa.noofsides()"
   ]
  },
  {
   "cell_type": "code",
   "execution_count": null,
   "id": "98b6163f-8a78-45e5-9183-05d20bb6ed2c",
   "metadata": {},
   "outputs": [],
   "source": []
  }
 ],
 "metadata": {
  "kernelspec": {
   "display_name": "Python 3 (ipykernel)",
   "language": "python",
   "name": "python3"
  },
  "language_info": {
   "codemirror_mode": {
    "name": "ipython",
    "version": 3
   },
   "file_extension": ".py",
   "mimetype": "text/x-python",
   "name": "python",
   "nbconvert_exporter": "python",
   "pygments_lexer": "ipython3",
   "version": "3.10.8"
  }
 },
 "nbformat": 4,
 "nbformat_minor": 5
}
