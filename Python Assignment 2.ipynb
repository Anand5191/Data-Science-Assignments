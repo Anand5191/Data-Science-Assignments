{
 "cells": [
  {
   "cell_type": "code",
   "execution_count": 1,
   "id": "4a1c6b8e-cf80-4745-a9f4-f62d69fe66fc",
   "metadata": {},
   "outputs": [
    {
     "data": {
      "text/plain": [
       "'Question 1\\n\\nWe have to use the sign # before writing comment in Python.\\n\\nThere is two types to write comment in python :'"
      ]
     },
     "execution_count": 1,
     "metadata": {},
     "output_type": "execute_result"
    }
   ],
   "source": [
    "\"\"\"Question 1\n",
    "\n",
    "We have to use the sign # before writing comment in Python.\n",
    "\n",
    "There is two types to write comment in python :\"\"\"\n",
    "\n",
    "#1) [#] use for comment 2) \"\"\" Triple quotes use at the start and at end of the sentences."
   ]
  },
  {
   "cell_type": "code",
   "execution_count": 2,
   "id": "877bea9c-57b8-4b90-b59b-b84869c0f51a",
   "metadata": {},
   "outputs": [],
   "source": [
    "#Question 2\n",
    "\n",
    "#Python variable is a name given to memory location.\n",
    "# We use varible a,b,c.. any name or alphabet to values.\n",
    "#ex : anand= 12345; a= \"pwskills\""
   ]
  },
  {
   "cell_type": "code",
   "execution_count": 4,
   "id": "b2b5ea99-cf88-4b2b-b6ec-8d4f91f5f15b",
   "metadata": {},
   "outputs": [],
   "source": [
    "#Question 3\n",
    "\n",
    "a= '4567' \n",
    "b= 45.26"
   ]
  },
  {
   "cell_type": "code",
   "execution_count": 5,
   "id": "e79d48df-3c27-434d-8ca2-3b0040e602e8",
   "metadata": {},
   "outputs": [
    {
     "data": {
      "text/plain": [
       "(4567, 45)"
      ]
     },
     "execution_count": 5,
     "metadata": {},
     "output_type": "execute_result"
    }
   ],
   "source": [
    "int(a)  , int(b)"
   ]
  },
  {
   "cell_type": "code",
   "execution_count": 6,
   "id": "bee5736a-85a1-4cfa-9474-85641e10cd3f",
   "metadata": {},
   "outputs": [],
   "source": [
    "#Question 4\n",
    "\n",
    "#1) First open and run command prompt\n",
    "#2) then write 'py' in command line and give command by pressing enter\n",
    "#2) enter second command or python code [ex: print(\"hello anand\") and press enter to execute the code.\n"
   ]
  },
  {
   "cell_type": "code",
   "execution_count": 7,
   "id": "9a6eb543-2e25-405a-8442-7b9a9fbfd605",
   "metadata": {},
   "outputs": [],
   "source": [
    "#Question 5\n",
    "my_list=[1,2,3,4,5]"
   ]
  },
  {
   "cell_type": "code",
   "execution_count": 8,
   "id": "084d1ab2-a6db-4240-97fa-5e66ad569e7f",
   "metadata": {},
   "outputs": [
    {
     "data": {
      "text/plain": [
       "[2, 3]"
      ]
     },
     "execution_count": 8,
     "metadata": {},
     "output_type": "execute_result"
    }
   ],
   "source": [
    "my_list[1:3]"
   ]
  },
  {
   "cell_type": "code",
   "execution_count": 9,
   "id": "c345882f-5574-43f7-8aa4-ffedfc0b993c",
   "metadata": {},
   "outputs": [],
   "source": [
    "#Question 6\n",
    "# In mathematics complex numbers are expressed in the form of a+ib, where a,b are real numbers and i is an imaginary number.\n",
    "# In Python complex number expressed in the form of a+jb, where a,b are real numbers and j is an imaginary number.\n",
    "# ex: 25+j9 : here is 25 real number and j9 is an imaginary number"
   ]
  },
  {
   "cell_type": "code",
   "execution_count": 10,
   "id": "743ec229-3470-4b1e-9f0e-782169bc4960",
   "metadata": {},
   "outputs": [],
   "source": [
    "#Question 7\n",
    "\n",
    "abhishek_age=25"
   ]
  },
  {
   "cell_type": "code",
   "execution_count": 11,
   "id": "62fb5a49-e27f-4ada-a325-a3725078d0d0",
   "metadata": {},
   "outputs": [],
   "source": [
    "#Question 8\n",
    "\n",
    "desktop_price=9.99"
   ]
  },
  {
   "cell_type": "code",
   "execution_count": 12,
   "id": "7492fe23-05e0-45aa-bfa0-e2a10d35d53c",
   "metadata": {},
   "outputs": [
    {
     "data": {
      "text/plain": [
       "float"
      ]
     },
     "execution_count": 12,
     "metadata": {},
     "output_type": "execute_result"
    }
   ],
   "source": [
    "type(desktop_price)"
   ]
  },
  {
   "cell_type": "code",
   "execution_count": 13,
   "id": "3e2c7415-ca5c-45f0-9336-07ed7e0e48cf",
   "metadata": {},
   "outputs": [],
   "source": [
    "#Question 9\n",
    "\n",
    "name= \"Anand Parashram Patole\""
   ]
  },
  {
   "cell_type": "code",
   "execution_count": 14,
   "id": "0c5715a8-4249-426c-9754-8d6d085a915f",
   "metadata": {},
   "outputs": [
    {
     "name": "stdout",
     "output_type": "stream",
     "text": [
      "Anand Parashram Patole\n"
     ]
    }
   ],
   "source": [
    "print(name)"
   ]
  },
  {
   "cell_type": "code",
   "execution_count": 15,
   "id": "1342dfcd-3f47-4fc0-8ceb-e3df75f07506",
   "metadata": {},
   "outputs": [],
   "source": [
    "#Question 10\n",
    "\n",
    "a= \"Hello,world!\""
   ]
  },
  {
   "cell_type": "code",
   "execution_count": 16,
   "id": "00b126c6-b38a-4254-a3d6-9ee86725ab5f",
   "metadata": {},
   "outputs": [
    {
     "data": {
      "text/plain": [
       "'world'"
      ]
     },
     "execution_count": 16,
     "metadata": {},
     "output_type": "execute_result"
    }
   ],
   "source": [
    "a[6:11]"
   ]
  },
  {
   "cell_type": "code",
   "execution_count": 17,
   "id": "6d19c2a0-449d-403f-bb39-4dcae21e3893",
   "metadata": {},
   "outputs": [],
   "source": [
    "#Question 11\n",
    "\n",
    "is_student= True"
   ]
  },
  {
   "cell_type": "code",
   "execution_count": null,
   "id": "0ebdd6da-af91-4e74-b0a1-c70230b8df25",
   "metadata": {},
   "outputs": [],
   "source": []
  }
 ],
 "metadata": {
  "kernelspec": {
   "display_name": "Python 3 (ipykernel)",
   "language": "python",
   "name": "python3"
  },
  "language_info": {
   "codemirror_mode": {
    "name": "ipython",
    "version": 3
   },
   "file_extension": ".py",
   "mimetype": "text/x-python",
   "name": "python",
   "nbconvert_exporter": "python",
   "pygments_lexer": "ipython3",
   "version": "3.10.8"
  }
 },
 "nbformat": 4,
 "nbformat_minor": 5
}
