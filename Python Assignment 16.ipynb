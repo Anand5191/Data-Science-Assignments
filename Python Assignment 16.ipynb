{
  "nbformat": 4,
  "nbformat_minor": 0,
  "metadata": {
    "colab": {
      "provenance": []
    },
    "kernelspec": {
      "name": "python3",
      "display_name": "Python 3"
    },
    "language_info": {
      "name": "python"
    }
  },
  "cells": [
    {
      "cell_type": "code",
      "execution_count": null,
      "metadata": {
        "id": "ZQfh25Rxe9nI"
      },
      "outputs": [],
      "source": [
        "# Q1\n",
        "\n",
        "\"\"\" GET Method :\n",
        "The GET method is used to submit the HTML form data. This data is collected by the predefined $_GET variable for processing.\n",
        "  The information sent from an HTML form using the GET method is visible to everyone in the browser's address bar, which means that all the\n",
        "variable names and their values will be displayed in the URL. Therefore, the get method is not secured to send sensitive information.\n",
        "\n",
        "POST Method :\n",
        "Similar to the GET method, the POST method is also used to submit the HTML form data. But the data submitted by this method is collected by the\n",
        "predefined superglobal variable $_POST instead of $_GET. Unlike the GET method, it does not have a limit on the amount of information to be sent.\n",
        "The information sent from an HTML form using the POST method is not visible to anyone.\"\"\"\n"
      ]
    },
    {
      "cell_type": "code",
      "source": [
        "# Q2\n",
        "\"\"\"The Flask Request object is a powerful and convenient tool for handling HTTP requests in Flask web applications. It provides a simple and consistent way to\n",
        " access various parts of an HTTP request. For example query parameters, form data, headers, and cookies, allowing developers to easily extract the data needed for processing.\n",
        "\n",
        "1) request.method: This attribute returns the HTTP method used in the request, such as “GET”, “POST”, “PUT”, “DELETE”, etc. You can use this attribute to determine the\n",
        "   type of request being made.\n",
        "\n",
        "2) request.url: This attribute returns the URL of the requested page, including the protocol, domain, and path.\n",
        "\n",
        "3) request.form: This attribute is a dictionary-like object that contains the data submitted in the request’s form. You can use this attribute to access form data submitted\n",
        "   in a POST request.\n",
        "\n",
        "4) request.args: This attribute is a dictionary-like object that contains the query parameters passed in the URL of the request. You can use this attribute to access\n",
        "   query parameters passed in a GET request.\n",
        "\n",
        "5) request.files: This attribute is a dictionary-like object that contains any files uploaded in the request. You can use this attribute to access uploaded files.\n",
        "\n",
        "6) request.headers: This attribute is a dictionary-like object that contains the HTTP headers of the request. You can use this attribute to access information about the headers,\n",
        "   such as “Content-Type”, “User-Agent”, etc.\n",
        "\n",
        "7) request.cookies: This attribute is a dictionary-like object that contains any cookies sent with the request. You can use this attribute to access cookies sent by the client.\n",
        "\n",
        "8) request.remote_addr: This attribute returns the IP address of the client that made the request.\n",
        "\n",
        "9) request.endpoint: This attribute returns the name of the endpoint that matched the current request. An endpoint is the name associated with a view function in Flask.\n",
        "\n",
        "10) request.path: This attribute returns the path of the requested URL, excluding the domain and query parameters. \"\"\"\"\"\n",
        "\n"
      ],
      "metadata": {
        "id": "9oQNhXdEgKEH"
      },
      "execution_count": null,
      "outputs": []
    },
    {
      "cell_type": "code",
      "source": [
        "# Q3\n",
        "\n",
        "\"\"\" A redirect is used in the Flask class to send the user to a particular URL with the status code. conversely, this status code additionally identifies the issue.\n",
        "When we access a website, our browser sends a request to the server, and the server replies with what is known as the HTTP status code, which is a three-digit number.\"\"\""
      ],
      "metadata": {
        "id": "kBrGVMYHikfN"
      },
      "execution_count": null,
      "outputs": []
    },
    {
      "cell_type": "code",
      "source": [
        "# Q4\n",
        "\n",
        "\"\"\"\n",
        "Creating Flask Templates : Creating a Flask template is simple. we can create a templates folder in our Flask application directory, and then create separate HTML files\n",
        " inside that folder for each view or page of our web application. Flask will automatically look for templates in the templates folder and render them when a request is made\n",
        " to the corresponding route.\n",
        "\n",
        "Rendering Flask Templates : Once we have created a Flask template, we can use the render_template function provided by Flask to render the template and generate the HTML output.\n",
        "  The render_template function takes the name of the template file as an argument and returns the rendered HTML as a response that can be sent back to the client.\n",
        "\n",
        "Template Inheritance : One of the powerful features of Flask templates is template inheritance. It allows us to define a base template with common elements such as header,\n",
        "  footer, and navigation bar, and then extend it in child templates with additional content. This makes it easy to create consistent and reusable layouts for our web application.\n",
        "\n",
        "Template Control Structures : Jinja2, the templating engine used by Flask, provides powerful control structures that allow us to add logic and perform conditional rendering\n",
        "  in your templates.\n",
        "\n",
        "Delimiters in Flask Templates : Delimiters in Flask templates refer to the symbols or characters used to indicate template expressions and statements in the template files.\n",
        "Flask uses a templating engine called Jinja2, which allows developers to create dynamic HTML pages by embedding Python code within HTML templates. \"\"\"\n",
        "\n",
        "\n",
        "\n",
        "\n",
        "\n",
        "\n",
        "\n",
        "\n"
      ],
      "metadata": {
        "id": "_fw_j3CAjRKt"
      },
      "execution_count": null,
      "outputs": []
    }
  ]
}