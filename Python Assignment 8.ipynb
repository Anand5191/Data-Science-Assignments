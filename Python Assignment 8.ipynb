{
 "cells": [
  {
   "cell_type": "code",
   "execution_count": null,
   "id": "12bf72f6-7a3d-4430-9d96-e2bb2d39e059",
   "metadata": {},
   "outputs": [],
   "source": [
    "#Q 1\n",
    "\"\"\"\n",
    " In Python, an exception is an object that represents an error or an unexpected event during program execution.\n",
    "Exceptions are raised when certain conditions occur, such as invalid input, division by zero, or accessing a non-existent variable.\n",
    "To handle exceptions, we can use `try`, `except`, and `finally` blocks in our code. Properly handling exceptions helps prevent \n",
    "program crashes and ensures graceful error handling.\n",
    "Here are some common types of exceptions in Python : SyntaxError, TypeError, NameError, IndexError, KeyError, ValueError, AttributeError,\n",
    "IOError, ZeroDivisionError, ImportError.\n",
    "\n",
    "\n",
    "Diffrences between Exception and Syntax erros :\n",
    "\n",
    "Exception :\n",
    " In programming errors prevent the successful execution of code. Python provides a mechanism to deal with errors, known as exceptions.\n",
    "When an error occurs, Python raises an exception, which can be caught and handled by the programmer.\n",
    " Python provides a structured way to handle exceptions using the try and except blocks. This mechanism allows you to gracefully handle \n",
    "errors without crashing your program.\n",
    "\n",
    "Syntax erross :\n",
    " Syntax errors, also known as parsing errors, occur when the code violates the typos, missing parentheses, or incorrect keyword usage. \n",
    "These errors are detected during the parsing phase before the code is executed. When the proper syntax of the language is not followed then a syntax error is thrown.\n",
    "\"\"\""
   ]
  },
  {
   "cell_type": "code",
   "execution_count": 39,
   "id": "e8537c3a-26f2-4db5-afc5-2c06de6ffcf5",
   "metadata": {},
   "outputs": [
    {
     "ename": "SyntaxError",
     "evalue": "expected ':' (1483808634.py, line 6)",
     "output_type": "error",
     "traceback": [
      "\u001b[0;36m  Cell \u001b[0;32mIn[39], line 6\u001b[0;36m\u001b[0m\n\u001b[0;31m    if(amount > 2999)\u001b[0m\n\u001b[0m                     ^\u001b[0m\n\u001b[0;31mSyntaxError\u001b[0m\u001b[0;31m:\u001b[0m expected ':'\n"
     ]
    }
   ],
   "source": [
    "#Q 2\n",
    "\n",
    "\"\"\"When Exception is not handled by us and then an error occurs during the execution of a program will stop the execution.\"\"\"\n",
    "\n",
    "amount = 10000\n",
    "if(amount > 2999)\n",
    "print(\"You are eligible to purchase Dsa Self Paced\")"
   ]
  },
  {
   "cell_type": "code",
   "execution_count": 8,
   "id": "dc13e2cd-94ee-490f-9a9f-716cba5d8032",
   "metadata": {},
   "outputs": [
    {
     "name": "stdout",
     "output_type": "stream",
     "text": [
      "Error: cannot add an int and a str\n"
     ]
    }
   ],
   "source": [
    "#Q 3\n",
    "\n",
    "\"\"\"Try and except statements are used to catch and handle exceptions in Python. Statements that can raise exceptions \n",
    "are kept inside the try block and the statements that handle the exception are written inside except block.\"\"\"\n",
    "\n",
    "x = 5\n",
    "y = \"hello\"\n",
    "try:\n",
    "\tz = x + y\n",
    "except TypeError:\n",
    "\tprint(\"Error: cannot add an int and a str\")"
   ]
  },
  {
   "cell_type": "code",
   "execution_count": 14,
   "id": "8e28bd4a-6333-4c9a-9af7-d30a277de0ed",
   "metadata": {},
   "outputs": [
    {
     "name": "stdout",
     "output_type": "stream",
     "text": [
      "a/b result in 0\n"
     ]
    }
   ],
   "source": [
    "# Q 4\n",
    "\n",
    "#Try and Else :\n",
    "\n",
    "def test(a , b):\n",
    "\ttry:\n",
    "\t\tc = ((a+b) / (a-b))\n",
    "\texcept ZeroDivisionError:\n",
    "\t\tprint (\"a/b result in 0\")\n",
    "\telse:\n",
    "\t\tprint (c)\n",
    "test(2, 2)"
   ]
  },
  {
   "cell_type": "code",
   "execution_count": 16,
   "id": "6ff9d729-7d89-4768-8a2c-1b5325c8206a",
   "metadata": {},
   "outputs": [
    {
     "name": "stdout",
     "output_type": "stream",
     "text": [
      "Can't divide by zero\n",
      "This is always executed\n"
     ]
    }
   ],
   "source": [
    "#Q 4\n",
    "# Finally :\n",
    "\n",
    "try:\n",
    "\tf = 5//0\n",
    "\tprint(f)\n",
    "\n",
    "except ZeroDivisionError:\n",
    "\tprint(\"Can't divide by zero\")\n",
    "\n",
    "finally:\n",
    "\tprint('This is always executed')\n"
   ]
  },
  {
   "cell_type": "code",
   "execution_count": 40,
   "id": "17b9a3a0-64b9-41ea-a288-bead7c57b494",
   "metadata": {},
   "outputs": [
    {
     "ename": "TypeError",
     "evalue": "Only integers are allowed",
     "output_type": "error",
     "traceback": [
      "\u001b[0;31m---------------------------------------------------------------------------\u001b[0m",
      "\u001b[0;31mTypeError\u001b[0m                                 Traceback (most recent call last)",
      "Cell \u001b[0;32mIn[40], line 11\u001b[0m\n\u001b[1;32m      9\u001b[0m         \u001b[38;5;28mprint\u001b[39m(\u001b[38;5;124m\"\u001b[39m\u001b[38;5;124mThis is an exception\u001b[39m\u001b[38;5;124m\"\u001b[39m)\n\u001b[1;32m     10\u001b[0m     \u001b[38;5;28;01mraise\u001b[39;00m \u001b[38;5;167;01mTypeError\u001b[39;00m(\u001b[38;5;124m\"\u001b[39m\u001b[38;5;124mOnly integers are allowed\u001b[39m\u001b[38;5;124m\"\u001b[39m)\n\u001b[0;32m---> 11\u001b[0m \u001b[43mtest1\u001b[49m\u001b[43m(\u001b[49m\u001b[38;5;241;43m5\u001b[39;49m\u001b[43m,\u001b[49m\u001b[43m \u001b[49m\u001b[38;5;241;43m5\u001b[39;49m\u001b[43m)\u001b[49m \n",
      "Cell \u001b[0;32mIn[40], line 10\u001b[0m, in \u001b[0;36mtest1\u001b[0;34m(x, y)\u001b[0m\n\u001b[1;32m      8\u001b[0m \u001b[38;5;28;01mexcept\u001b[39;00m \u001b[38;5;167;01mNameError\u001b[39;00m:\n\u001b[1;32m      9\u001b[0m     \u001b[38;5;28mprint\u001b[39m(\u001b[38;5;124m\"\u001b[39m\u001b[38;5;124mThis is an exception\u001b[39m\u001b[38;5;124m\"\u001b[39m)\n\u001b[0;32m---> 10\u001b[0m \u001b[38;5;28;01mraise\u001b[39;00m \u001b[38;5;167;01mTypeError\u001b[39;00m(\u001b[38;5;124m\"\u001b[39m\u001b[38;5;124mOnly integers are allowed\u001b[39m\u001b[38;5;124m\"\u001b[39m)\n",
      "\u001b[0;31mTypeError\u001b[0m: Only integers are allowed"
     ]
    }
   ],
   "source": [
    "#Q 4\n",
    "\n",
    "#Raise\n",
    "\n",
    "def test1(x,y): \n",
    "    try : \n",
    "        z = x**y\n",
    "    except NameError:\n",
    "        print(\"This is an exception\")\n",
    "    raise TypeError(\"Only integers are allowed\")\n",
    "test1(5, 5) \n"
   ]
  },
  {
   "cell_type": "code",
   "execution_count": 1,
   "id": "d0be2f96-e26d-4a45-b493-e2680787450b",
   "metadata": {},
   "outputs": [
    {
     "data": {
      "text/plain": [
       "\"\\nCustom exceptions in Python allow you to define our own exception classes, tailored to specific scenarios in our code.\\nHere's why we need them:\\n\\nSpecific Error Handling :\\n1)      Built-in exceptions cover common cases, but custom exceptions let us handle application-specific errors more effectively.\\n    For instance, if our application deals with financial transactions, we could create a custom exception for insufficient funds.\\n\\n2) Informative Error Messages:\\n        Custom exceptions allow us to provide detailed error messages.\\n    When an exception occurs, we can include relevant information (e.g., error codes, context) to help developers understand the issue.\\n\\n3) Modularity and Readability:\\n        By creating custom exceptions, we make our code more modular and readable.\\n   Each custom exception class represents a specific type of error, making it easier to handle and maintain.\\n\""
      ]
     },
     "execution_count": 1,
     "metadata": {},
     "output_type": "execute_result"
    }
   ],
   "source": [
    "#Q 5\n",
    "\"\"\"\n",
    "Custom exceptions in Python allow you to define our own exception classes, tailored to specific scenarios in our code.\n",
    "Here's why we need them:\n",
    "\n",
    "Specific Error Handling :\n",
    "1)      Built-in exceptions cover common cases, but custom exceptions let us handle application-specific errors more effectively.\n",
    "    For instance, if our application deals with financial transactions, we could create a custom exception for insufficient funds.\n",
    "\n",
    "2) Informative Error Messages:\n",
    "        Custom exceptions allow us to provide detailed error messages.\n",
    "    When an exception occurs, we can include relevant information (e.g., error codes, context) to help developers understand the issue.\n",
    "\n",
    "3) Modularity and Readability:\n",
    "        By creating custom exceptions, we make our code more modular and readable.\n",
    "   Each custom exception class represents a specific type of error, making it easier to handle and maintain.\n",
    "\"\"\"\n"
   ]
  },
  {
   "cell_type": "code",
   "execution_count": 2,
   "id": "e9bc9f8a-1e77-4de6-8c78-cbc649663706",
   "metadata": {},
   "outputs": [
    {
     "name": "stdout",
     "output_type": "stream",
     "text": [
      "You cannot divide by zero!\n"
     ]
    }
   ],
   "source": [
    "#Q 5\n",
    "\n",
    "try:\n",
    "    result = 10 / 0\n",
    "except ZeroDivisionError:\n",
    "    print(\"You cannot divide by zero!\")"
   ]
  },
  {
   "cell_type": "code",
   "execution_count": 37,
   "id": "0666f941-07bd-41d7-8a24-0f43850762a4",
   "metadata": {},
   "outputs": [
    {
     "name": "stdout",
     "output_type": "stream",
     "text": [
      "Couldn't open file.log\n"
     ]
    }
   ],
   "source": [
    "#Q 6\n",
    "try:\n",
    "    with open(\"file.log\") as file:\n",
    "        read_data = file.read()\n",
    "except:\n",
    "    print(\"Couldn't open file.log\")"
   ]
  },
  {
   "cell_type": "code",
   "execution_count": null,
   "id": "feb46a35-315a-4244-9ad3-955c10cdbcbe",
   "metadata": {},
   "outputs": [],
   "source": []
  }
 ],
 "metadata": {
  "kernelspec": {
   "display_name": "Python 3 (ipykernel)",
   "language": "python",
   "name": "python3"
  },
  "language_info": {
   "codemirror_mode": {
    "name": "ipython",
    "version": 3
   },
   "file_extension": ".py",
   "mimetype": "text/x-python",
   "name": "python",
   "nbconvert_exporter": "python",
   "pygments_lexer": "ipython3",
   "version": "3.10.8"
  }
 },
 "nbformat": 4,
 "nbformat_minor": 5
}
