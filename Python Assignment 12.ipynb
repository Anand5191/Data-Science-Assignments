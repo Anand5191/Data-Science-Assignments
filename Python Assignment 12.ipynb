{
  "cells": [
    {
      "cell_type": "code",
      "execution_count": null,
      "metadata": {
        "id": "325zLhoxkrd1"
      },
      "outputs": [],
      "source": [
        "#Q1\n",
        "\n",
        "\"\"\" A database is an organized collection of structured information or data, typically stored electronically in a computer system.\n",
        " It is usually controlled by a database management system (DBMS), which allows users to store, retrieve, manage, and manipulate the data efficiently.\n",
        "\n",
        " SQL : SQL databases define and manipulate data-based structured query language (SQL).\n",
        " is the programming language that’s been widely used in managing data in relational database management systems (RDBMS).\n",
        " SQL is still widely used for querying relational databases, where data is stored in rows and tables that are linked in various ways.\n",
        " One table record may link to one other or to many others, or many table records may be related to many records in another table.\n",
        "\n",
        "SQL is a good choice when working with related data. Relational databases are efficient, flexible and easily accessed by any application.\n",
        " A benefit of a relational database is that when one user updates a specific record, every instance of the database automatically refreshes,\n",
        "  and that information is provided in real-time.\n",
        "\n",
        " SQL databases are valuable in handling structured data, or data that has relationships between its variables and entities.\n",
        "\n",
        "In general, SQL databases can scale vertically, meaning you can increase the load on a server by migrating to a larger server that adds more CPU, RAM or SSD capability.\n",
        "While vertical scalability is used most frequently, SQL databases can also scale horizontally through sharding or partitioning logic, although that’s not well-supported.\n",
        "\n",
        "RDBMS, which use SQL, must exhibit four properties, known by the acronym ACID.(Atomicity, Consistency, Isolation, Durability)\n",
        "\n",
        "EX :Db2, MySQL, PostgreSQL, YugabyteDB, CockroachDB, Oracle Database, Azure SQL Database.\n",
        "\n",
        "\n",
        "\n",
        "NOSQL :NoSQL is a non-relational database, meaning it allows different structures than a SQL database (not rows and columns) and\n",
        "more flexibility to use a format that best fits the data. Unlike SQL, NoSQL systems allow you to work with different data structures within a database.\n",
        "Because they allow a dynamic schema for unstructured data, there’s less need to pre-plan and pre-organize data, and it’s easier to make modifications.\n",
        " NoSQL databases allow you to add new attributes and fields, as well as use varied syntax across databases.\n",
        "\n",
        "\n",
        "While SQL is valued for ensuring data validity, NoSQL is good when it’s more important that the availability of big data is fast.\n",
        "NoSQL is easy-to-use, flexible and offers high performance.\n",
        "NoSQL is also a good choice when there are large amounts of (or ever-changing) data sets or when working with flexible data models or needs that don’t fit into a relational model.\n",
        "When working with large amounts of unstructured data, document databases\n",
        "\n",
        " NoSQL databases scale better horizontally, which means one can add additional servers or nodes as needed to increase load.\n",
        "\n",
        " NoSQL databases are not relational, so they don’t solely store data in rows and tables. Instead, they generally fall into one of four types of structures:\n",
        "\n",
        "Column-oriented, where data is stored in cells grouped in a virtually unlimited number of columns rather than rows.\n",
        "Key-value stores, This model represents data as a collection of key-value pairs.\n",
        "Document stores, which use documents to hold and encode data in standard formats, including XML, YAML, JSON (JavaScript Object Notation) and BSON.\n",
        "Graph databases, which represent data on a graph that shows how different sets of data relate to each other. Neo4j, RedisGraph (a graph module built into Redis) and OrientDB are examples of graph databases.\n",
        "While SQL calls for ACID properties, NoSQL follows the CAP theory (Consistency, Availability, Partition tolerance)\n",
        "\n",
        "EX: Redis, CouchDB, MongoDB, Cassandra, Elasticsearch, BigTable (link resides outside ibm.com), Neo4j, HBase\n",
        "\n",
        "\n",
        "\n"
      ]
    },
    {
      "cell_type": "code",
      "execution_count": null,
      "metadata": {
        "id": "pUEN9_E1sRpj"
      },
      "outputs": [],
      "source": [
        "# Q2\n",
        "\n",
        "Data Definition Language : DDL is a standardized language with commands to define the storage groups (stogroups), different structures and objects in a database.\n",
        "DDL statements create, modify and remove database objects.\n",
        "\n",
        "\n",
        "CREATE : use For creating tables, indexes, and databases\n",
        "EX: CREATE TABLE table_name (column1 data_type, column2 data_type, ...);\n",
        "\n",
        "DROP: Delete objects from the database\n",
        "EX: DROP TABLE table_name;\n",
        "\n",
        "ALTER\t: Alter the structure of the database\n",
        "EX: ALTER TABLE table_name ADD COLUMN column_name data_type;\n",
        "\n",
        "TRUNCATE :\tRemove all records from a table, including all spaces allocated for the records are removed\n",
        "EX: TRUNCATE TABLE table_name;\n"
      ]
    },
    {
      "cell_type": "code",
      "execution_count": null,
      "metadata": {
        "id": "we7lM8SBvQYX"
      },
      "outputs": [],
      "source": [
        "# Q3\n",
        "\n",
        "Data Manipulation Language (DML) is a subset of SQL commands used to manipulate data within a database.\n",
        "DML commands allow users to insert, update, delete, and retrieve data from database tables.\n",
        "These commands are essential for managing and interacting with the data stored in a database.\n",
        "\n",
        "INSERT :\tInsert data into a table\n",
        "EX: INSERT INTO table_name (column1, column2) VALUES (value1, value2)\n",
        "\n",
        "UPDATE :\tUpdate existing data within a table\n",
        "EX: UPDATE table_name SET column1 = value1, column2 = value2\n",
        "\n",
        "DELETE :\tDelete records from a database table\n",
        "EX: DELETE FROM table_name"
      ]
    },
    {
      "cell_type": "code",
      "execution_count": null,
      "metadata": {
        "id": "jvvgFFEizSxv"
      },
      "outputs": [],
      "source": [
        "# Q4\n",
        "\n",
        "DQL statements are used for performing queries on the data within schema objects.\n",
        "The purpose of the DQL Command is to get some schema relation based on the query passed to it.\n",
        "\n",
        "SELECT : It is used to retrieve data from the database\n",
        "\n",
        "EX: SELECT column1, column2 FROM table_name"
      ]
    },
    {
      "cell_type": "code",
      "execution_count": null,
      "metadata": {
        "id": "tUbHPMX3zS1J"
      },
      "outputs": [],
      "source": [
        "# Q5\n",
        "\n",
        "PRIMARY KEY\t:\n",
        "A primary key is used to ensure data in the specific column is unique.\n",
        "It uniquely identifies a record in the relational database table.\n",
        "Only one primary key is allowed in a table.\n",
        "It is a combination of UNIQUE and Not Null constraints.\n",
        "It does not allow NULL values .It does not allow NULL values .\n",
        "Its value cannot be deleted from the parent table.\n",
        "It constraint can be implicitly defined on the temporary tables.\n",
        "\n",
        "FOREIGN KEY :\n",
        "A foreign key is a column or group of columns in a relational database table that provides a link between data in two tables.\n",
        "It refers to the field in a table which is the primary key of another table.\n",
        "Whereas more than one foreign key is allowed in a table.\n",
        "It can contain duplicate values and a table in a relational database.\n",
        "It can also contain NULL values.\n",
        "Its value can be deleted from the child table.\n",
        "It constraint cannot be defined on the local or global temporary tables."
      ]
    },
    {
      "cell_type": "code",
      "execution_count": null,
      "metadata": {
        "id": "yZ_17lP91zP3"
      },
      "outputs": [],
      "source": [
        "# Q6\n",
        "\n",
        "\n",
        "from mysql.connector import connection\n",
        "\n",
        "conn = connection.MySQLConnection(user = 'username',\n",
        "\t\t\t\t\t\t\thost = 'localhost',\n",
        "\t\t\t\t\t\t\tdatabase = 'database_name')\n",
        "\n",
        "cursor = conn.cursor()\n",
        "\n"
      ]
    },
    {
      "cell_type": "code",
      "execution_count": null,
      "metadata": {
        "id": "-XetzskP5Hu8"
      },
      "outputs": [],
      "source": [
        "# Q7\n",
        "\n",
        "CREATE TABLE students (\n",
        "  id INTEGER PRIMARY KEY,\n",
        "  name TEXT NOT NULL,\n",
        "  gender TEXT NOT NULL\n",
        ");\n",
        "\n",
        "\n",
        "INSERT INTO students VALUES (1, 'Ryan', 'M');\n",
        "INSERT INTO students VALUES (2, 'Joanna', 'F');\n",
        "\n",
        "\n",
        "SELECT * FROM students WHERE gender = 'F';\n",
        "\n",
        "\n"
      ]
    },
    {
      "cell_type": "code",
      "execution_count": null,
      "metadata": {
        "id": "j1duyDc7oKZb"
      },
      "outputs": [],
      "source": []
    }
  ],
  "metadata": {
    "colab": {
      "provenance": []
    },
    "kernelspec": {
      "display_name": "Python 3",
      "name": "python3"
    },
    "language_info": {
      "name": "python"
    }
  },
  "nbformat": 4,
  "nbformat_minor": 0
}
