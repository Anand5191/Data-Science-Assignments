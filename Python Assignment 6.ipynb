{
 "cells": [
  {
   "cell_type": "code",
   "execution_count": 1,
   "id": "96959bae-f0ab-454c-81d4-de282b7d7718",
   "metadata": {},
   "outputs": [
    {
     "data": {
      "text/plain": [
       "'A class is a user-defined blueprint or prototype from which objects are created. \\nClasses provide a means of bundling data and functionality together. \\nCreating a new class creates a new type of object, allowing new instances of that type to be made. \\nEach class instance can have attributes attached to it for maintaining its state. \\nClass instances can also have methods (defined by their class) for modifying their state.'"
      ]
     },
     "execution_count": 1,
     "metadata": {},
     "output_type": "execute_result"
    }
   ],
   "source": [
    "#Q 1\n",
    "\n",
    "\"\"\"A class is a user-defined blueprint or prototype from which objects are created. \n",
    "Classes provide a means of bundling data and functionality together. \n",
    "Creating a new class creates a new type of object, allowing new instances of that type to be made. \n",
    "Each class instance can have attributes attached to it for maintaining its state. \n",
    "Class instances can also have methods (defined by their class) for modifying their state.\"\"\""
   ]
  },
  {
   "cell_type": "code",
   "execution_count": 9,
   "id": "7e3e7bfc-0362-40f7-aa7a-9a78990df902",
   "metadata": {},
   "outputs": [],
   "source": [
    "#Q 1 \n",
    "\n",
    "class Pwskills () :\n",
    "    def __init__ (self, course, fees) :\n",
    "        self.course = course\n",
    "        self.fees = fees\n",
    "        \n",
    "    def course_details(self) :\n",
    "        return self.course, self.fees"
   ]
  },
  {
   "cell_type": "code",
   "execution_count": 10,
   "id": "a052fa14-66c2-4faa-8055-8e1fe86df728",
   "metadata": {},
   "outputs": [],
   "source": [
    "pw = Pwskills(\"data_science\", 3000)"
   ]
  },
  {
   "cell_type": "code",
   "execution_count": 11,
   "id": "4a351294-e646-4c93-97b4-650cdce36f1f",
   "metadata": {},
   "outputs": [
    {
     "data": {
      "text/plain": [
       "'\\n1) Abstraction\\n2) Encapsulation\\n3) Inheritance\\n4) Polymorphism \\n'"
      ]
     },
     "execution_count": 11,
     "metadata": {},
     "output_type": "execute_result"
    }
   ],
   "source": [
    "#Q 2\n",
    "\"\"\"\n",
    "1) Abstraction\n",
    "2) Encapsulation\n",
    "3) Inheritance\n",
    "4) Polymorphism \n",
    "\"\"\""
   ]
  },
  {
   "cell_type": "code",
   "execution_count": 12,
   "id": "35c6a871-2123-4c3b-bb64-faec9a53e2e4",
   "metadata": {},
   "outputs": [
    {
     "data": {
      "text/plain": [
       "'__init__ method in Python is used to initialize objects of a class. It is also called a constructor.'"
      ]
     },
     "execution_count": 12,
     "metadata": {},
     "output_type": "execute_result"
    }
   ],
   "source": [
    "#Q 4\n",
    "\"\"\"__init__ method in Python is used to initialize objects of a class. It is also called a constructor.\"\"\""
   ]
  },
  {
   "cell_type": "code",
   "execution_count": 13,
   "id": "5d8de397-122f-4701-a076-75fd7e3d3839",
   "metadata": {},
   "outputs": [],
   "source": [
    "#Q 4 \n",
    "\n",
    "class cars () :\n",
    "    def __init__(self, brand, speed, average, ) :\n",
    "        self.brand = brand\n",
    "        self.speed = speed\n",
    "        self.average = average\n",
    "        \n",
    "    def cars_details(self) :\n",
    "        return self.brand, self.speed, self.average"
   ]
  },
  {
   "cell_type": "code",
   "execution_count": 14,
   "id": "9fa06219-673e-46ed-ba93-da34afc3ecfe",
   "metadata": {},
   "outputs": [],
   "source": [
    "car = cars(\"maruti\", 890, 30)"
   ]
  },
  {
   "cell_type": "code",
   "execution_count": 15,
   "id": "8cc6968b-b930-4590-9700-4236a3dbbd06",
   "metadata": {},
   "outputs": [
    {
     "data": {
      "text/plain": [
       "'\\nInheritance is a fundamental concept in object-oriented programming (OOP). \\nIt allows a derived class (also known as a child class) to inherit properties and behaviors\\nfrom a base class (also called a parent class). Here are the key points about inheritance:\\n'"
      ]
     },
     "execution_count": 15,
     "metadata": {},
     "output_type": "execute_result"
    }
   ],
   "source": [
    "#Q 5\n",
    "\"\"\"\n",
    "Inheritance is a fundamental concept in object-oriented programming (OOP). \n",
    "It allows a derived class (also known as a child class) to inherit properties and behaviors\n",
    "from a base class (also called a parent class). Here are the key points about inheritance:\n",
    "\"\"\""
   ]
  },
  {
   "cell_type": "code",
   "execution_count": 8,
   "id": "5c0e255b-4b1f-4b57-ac34-0959efdc4238",
   "metadata": {},
   "outputs": [],
   "source": [
    "#Q 5\n",
    "#Single Inheritance\n",
    "\n",
    "class Bikes1 () :\n",
    "    def Splendor (self) :\n",
    "        print(\"This is my Splendor bike\")\n",
    "class Bikes2 (Bikes1) :\n",
    "    def Duke (self):\n",
    "        print(\"this is my Duke bike\")"
   ]
  }
 ],
 "metadata": {
  "kernelspec": {
   "display_name": "Python 3 (ipykernel)",
   "language": "python",
   "name": "python3"
  },
  "language_info": {
   "codemirror_mode": {
    "name": "ipython",
    "version": 3
   },
   "file_extension": ".py",
   "mimetype": "text/x-python",
   "name": "python",
   "nbconvert_exporter": "python",
   "pygments_lexer": "ipython3",
   "version": "3.10.8"
  }
 },
 "nbformat": 4,
 "nbformat_minor": 5
}
