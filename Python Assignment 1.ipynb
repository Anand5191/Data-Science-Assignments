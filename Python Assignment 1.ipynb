{
 "cells": [
  {
   "cell_type": "code",
   "execution_count": 1,
   "id": "b65f623e-0afd-47db-a22f-e5aa1d0fb93e",
   "metadata": {},
   "outputs": [],
   "source": [
    "#Question 1 (a)\n",
    "\n",
    "string = \"anand\""
   ]
  },
  {
   "cell_type": "code",
   "execution_count": 2,
   "id": "45c9138f-dbdd-4c41-8d0d-c6e3ad6ba9d8",
   "metadata": {},
   "outputs": [],
   "source": [
    "#Question 1 (b)\n",
    "\n",
    "list = [14,25,12,10,\"anand\",15.55,True]"
   ]
  },
  {
   "cell_type": "code",
   "execution_count": 3,
   "id": "01b463da-f905-471b-b89e-07fb4b9acae0",
   "metadata": {},
   "outputs": [],
   "source": [
    "#Question 1 (c)\n",
    "\n",
    "float = 12.25, 11.10,17.30"
   ]
  },
  {
   "cell_type": "code",
   "execution_count": 4,
   "id": "215c8f0e-3f6c-4a15-8959-ff60704eeae6",
   "metadata": {},
   "outputs": [],
   "source": [
    "#Question 1 (d)\n",
    "\n",
    "tuple = (\"anand\", \"raj\", \"vishal\", \"abhishek\")"
   ]
  },
  {
   "cell_type": "code",
   "execution_count": 6,
   "id": "83ded458-b5eb-4024-b9fe-3fd713f2b490",
   "metadata": {},
   "outputs": [],
   "source": [
    "#Question 2 (a)\n",
    "\n",
    "var1 = ' '"
   ]
  },
  {
   "cell_type": "code",
   "execution_count": 12,
   "id": "ffabedfe-e0c9-47e2-92a1-3f8e2098baa2",
   "metadata": {},
   "outputs": [
    {
     "data": {
      "text/plain": [
       "str"
      ]
     },
     "execution_count": 12,
     "metadata": {},
     "output_type": "execute_result"
    }
   ],
   "source": [
    "type(var1)"
   ]
  },
  {
   "cell_type": "code",
   "execution_count": 7,
   "id": "bf6f03c9-9b9b-47c7-bdb8-a42b49bf1f35",
   "metadata": {},
   "outputs": [],
   "source": [
    "#Question 2 (b)\n",
    "\n",
    "var2 = '[DS,ML,Python]'"
   ]
  },
  {
   "cell_type": "code",
   "execution_count": 14,
   "id": "dbc527ee-d4f4-4a40-9159-0c0e49792c34",
   "metadata": {},
   "outputs": [
    {
     "data": {
      "text/plain": [
       "str"
      ]
     },
     "execution_count": 14,
     "metadata": {},
     "output_type": "execute_result"
    }
   ],
   "source": [
    "type(var2)"
   ]
  },
  {
   "cell_type": "code",
   "execution_count": 8,
   "id": "b8ae08da-dbb4-4cfe-8f3b-d8627e164a71",
   "metadata": {},
   "outputs": [],
   "source": [
    "#Question 2 (c)\n",
    "\n",
    "var3 = ['DS','ML','Python']"
   ]
  },
  {
   "cell_type": "code",
   "execution_count": 16,
   "id": "315f25f8-72c2-4abc-bb52-b2b8a3711bc6",
   "metadata": {},
   "outputs": [
    {
     "data": {
      "text/plain": [
       "list"
      ]
     },
     "execution_count": 16,
     "metadata": {},
     "output_type": "execute_result"
    }
   ],
   "source": [
    "type(var3)"
   ]
  },
  {
   "cell_type": "code",
   "execution_count": 9,
   "id": "6de64dff-ad8f-4de0-a981-b8697984bfee",
   "metadata": {},
   "outputs": [],
   "source": [
    "#Question 2 (d)\n",
    "\n",
    "var4=1"
   ]
  },
  {
   "cell_type": "code",
   "execution_count": 18,
   "id": "e1213ad3-8206-4768-8a6f-5e74f59d0f19",
   "metadata": {},
   "outputs": [
    {
     "data": {
      "text/plain": [
       "int"
      ]
     },
     "execution_count": 18,
     "metadata": {},
     "output_type": "execute_result"
    }
   ],
   "source": [
    "type(var4)"
   ]
  },
  {
   "cell_type": "code",
   "execution_count": 10,
   "id": "32e705fb-18ed-4d6e-97e6-46eb2d9057fc",
   "metadata": {},
   "outputs": [
    {
     "data": {
      "text/plain": [
       "4.0"
      ]
     },
     "execution_count": 10,
     "metadata": {},
     "output_type": "execute_result"
    }
   ],
   "source": [
    "#Question 3 (a)\n",
    "\n",
    "20/5"
   ]
  },
  {
   "cell_type": "code",
   "execution_count": 11,
   "id": "3cd21e16-a732-461c-8daa-b763a56c5ee8",
   "metadata": {},
   "outputs": [
    {
     "data": {
      "text/plain": [
       "0"
      ]
     },
     "execution_count": 11,
     "metadata": {},
     "output_type": "execute_result"
    }
   ],
   "source": [
    "#Question 3 (b)\n",
    "\n",
    "100%20"
   ]
  },
  {
   "cell_type": "code",
   "execution_count": 12,
   "id": "a823a515-f676-4469-a891-ef887731d16c",
   "metadata": {},
   "outputs": [
    {
     "data": {
      "text/plain": [
       "10"
      ]
     },
     "execution_count": 12,
     "metadata": {},
     "output_type": "execute_result"
    }
   ],
   "source": [
    "#Question 3 (c)\n",
    "\n",
    "50//5"
   ]
  },
  {
   "cell_type": "code",
   "execution_count": 13,
   "id": "f91a1f52-b2e5-404d-8069-1b7a2e1ee95a",
   "metadata": {},
   "outputs": [
    {
     "data": {
      "text/plain": [
       "8"
      ]
     },
     "execution_count": 13,
     "metadata": {},
     "output_type": "execute_result"
    }
   ],
   "source": [
    "#Question 3 (d)\n",
    "\n",
    "2**3"
   ]
  },
  {
   "cell_type": "code",
   "execution_count": 14,
   "id": "5feb9380-97c6-4882-9cb1-c7bf55f5a094",
   "metadata": {},
   "outputs": [
    {
     "name": "stdout",
     "output_type": "stream",
     "text": [
      "<class 'int'>\n",
      "<class 'int'>\n",
      "<class 'int'>\n",
      "<class 'int'>\n",
      "<class 'int'>\n",
      "<class 'int'>\n",
      "<class 'str'>\n",
      "<class 'float'>\n",
      "<class 'float'>\n",
      "<class 'bool'>\n"
     ]
    }
   ],
   "source": [
    "#Question 4\n",
    "\n",
    "list = [1,2,3,4,5,6,\"anand\",45.22,99.25,True]\n",
    "for i in list :\n",
    "    print(type(i))"
   ]
  },
  {
   "cell_type": "code",
   "execution_count": 26,
   "id": "e557158f-d1a0-4118-b6d4-2f25fbe4f940",
   "metadata": {},
   "outputs": [
    {
     "ename": "NameError",
     "evalue": "name 'A' is not defined",
     "output_type": "error",
     "traceback": [
      "\u001b[0;31m---------------------------------------------------------------------------\u001b[0m",
      "\u001b[0;31mNameError\u001b[0m                                 Traceback (most recent call last)",
      "Cell \u001b[0;32mIn[26], line 3\u001b[0m\n\u001b[1;32m      1\u001b[0m \u001b[38;5;66;03m#Question 5\u001b[39;00m\n\u001b[0;32m----> 3\u001b[0m x \u001b[38;5;241m=\u001b[39m \u001b[43mA\u001b[49m\n\u001b[1;32m      4\u001b[0m y \u001b[38;5;241m=\u001b[39m B\n\u001b[1;32m      5\u001b[0m numofdivision \u001b[38;5;241m=\u001b[39m \u001b[38;5;241m0\u001b[39m\n",
      "\u001b[0;31mNameError\u001b[0m: name 'A' is not defined"
     ]
    }
   ],
   "source": [
    "#Question 5\n",
    "\n",
    "x = A\n",
    "y = B\n",
    "numofdivision = 0\n",
    "while x > 0 :\n",
    "    x =  x // y\n",
    "    numofdivision += 1 \n",
    "    print (\"number of division:{}\".format(numofdivision))"
   ]
  },
  {
   "cell_type": "code",
   "execution_count": 15,
   "id": "37ff2a0f-eb28-40de-9dfe-39a33d892bf9",
   "metadata": {},
   "outputs": [
    {
     "name": "stdout",
     "output_type": "stream",
     "text": [
      "yes it is divisible by 3\n"
     ]
    }
   ],
   "source": [
    "#Question 6\n",
    "\n",
    "l = [3,6,9,11,12,15,16,17,18,21,24,26,30,33,36,39,42,45,48,52,54,56,58,62,66]\n",
    "n = 3 \n",
    "if [i/n for i in l] :\n",
    "    print (\"yes it is divisible by 3\")\n",
    "else :\n",
    "           print(\"not divisible by 3\")"
   ]
  },
  {
   "cell_type": "code",
   "execution_count": 16,
   "id": "e4de4015-19af-4045-b752-b2a58c723134",
   "metadata": {},
   "outputs": [],
   "source": [
    "#Question 7 (Mutable)\n",
    "\n",
    "a = [12,11,18,25,\"anand\",22.25,True]"
   ]
  },
  {
   "cell_type": "code",
   "execution_count": 35,
   "id": "43f29b78-c2d0-43cc-9b29-c1a4e029cd7c",
   "metadata": {},
   "outputs": [],
   "source": [
    "a [0]=55"
   ]
  },
  {
   "cell_type": "code",
   "execution_count": 36,
   "id": "8bfb3a92-b7e8-43ab-9361-17412a26a3dc",
   "metadata": {},
   "outputs": [],
   "source": [
    "a[3]=99"
   ]
  },
  {
   "cell_type": "code",
   "execution_count": 37,
   "id": "4d65f371-2006-4404-ac0a-718075a37335",
   "metadata": {},
   "outputs": [
    {
     "data": {
      "text/plain": [
       "[55, 11, 18, 99, 'anand', 22.25, True]"
      ]
     },
     "execution_count": 37,
     "metadata": {},
     "output_type": "execute_result"
    }
   ],
   "source": [
    "a"
   ]
  },
  {
   "cell_type": "code",
   "execution_count": 17,
   "id": "c4755b9c-3cc7-4bd1-967b-43c0826c60b9",
   "metadata": {},
   "outputs": [],
   "source": [
    "#Question 7 (Imutable)\n",
    "\n",
    "a = \"anand\""
   ]
  },
  {
   "cell_type": "code",
   "execution_count": 45,
   "id": "78be1e75-53bd-4855-9eb7-ccb44277f1a5",
   "metadata": {},
   "outputs": [
    {
     "ename": "TypeError",
     "evalue": "'str' object does not support item assignment",
     "output_type": "error",
     "traceback": [
      "\u001b[0;31m---------------------------------------------------------------------------\u001b[0m",
      "\u001b[0;31mTypeError\u001b[0m                                 Traceback (most recent call last)",
      "Cell \u001b[0;32mIn[45], line 1\u001b[0m\n\u001b[0;32m----> 1\u001b[0m \u001b[43ma\u001b[49m\u001b[43m \u001b[49m\u001b[43m[\u001b[49m\u001b[38;5;241;43m2\u001b[39;49m\u001b[43m]\u001b[49m \u001b[38;5;241m=\u001b[39m \u001b[38;5;124m\"\u001b[39m\u001b[38;5;124ml\u001b[39m\u001b[38;5;124m\"\u001b[39m\n",
      "\u001b[0;31mTypeError\u001b[0m: 'str' object does not support item assignment"
     ]
    }
   ],
   "source": [
    "a [2] = \"l\""
   ]
  },
  {
   "cell_type": "code",
   "execution_count": null,
   "id": "e97d0492-e80e-4eeb-a432-c3d2b033a58d",
   "metadata": {},
   "outputs": [],
   "source": []
  }
 ],
 "metadata": {
  "kernelspec": {
   "display_name": "Python 3 (ipykernel)",
   "language": "python",
   "name": "python3"
  },
  "language_info": {
   "codemirror_mode": {
    "name": "ipython",
    "version": 3
   },
   "file_extension": ".py",
   "mimetype": "text/x-python",
   "name": "python",
   "nbconvert_exporter": "python",
   "pygments_lexer": "ipython3",
   "version": "3.10.8"
  }
 },
 "nbformat": 4,
 "nbformat_minor": 5
}
