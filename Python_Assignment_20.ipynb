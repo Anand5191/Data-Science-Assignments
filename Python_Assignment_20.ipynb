{
  "nbformat": 4,
  "nbformat_minor": 0,
  "metadata": {
    "colab": {
      "provenance": []
    },
    "kernelspec": {
      "name": "python3",
      "display_name": "Python 3"
    },
    "language_info": {
      "name": "python"
    }
  },
  "cells": [
    {
      "cell_type": "code",
      "execution_count": 1,
      "metadata": {
        "colab": {
          "base_uri": "https://localhost:8080/"
        },
        "id": "GgnpBFQeNqK2",
        "outputId": "a6d06051-f489-42b0-fe32-7c3e7bf8e8f7"
      },
      "outputs": [
        {
          "output_type": "stream",
          "name": "stdout",
          "text": [
            "      Name  Age  Score\n",
            "0    Alice   25     85\n",
            "1      Bob   30     90\n",
            "2  Charlie   22     78\n"
          ]
        }
      ],
      "source": [
        "#Q1\n",
        "\n",
        "# Example 1\n",
        "\n",
        "import pandas as pd\n",
        "\n",
        "data = {'Name': ['Alice', 'Bob', 'Charlie', 'David', 'Eve'],\n",
        "        'Age': [25, 30, 22, 28, 27],\n",
        "        'Score': [85, 90, 78, 88, 92]}\n",
        "\n",
        "df = pd.DataFrame(data)\n",
        "print(df.head(3))\n"
      ]
    },
    {
      "cell_type": "code",
      "source": [
        "# Example 2\n",
        "\n",
        "df.info(data)\n"
      ],
      "metadata": {
        "colab": {
          "base_uri": "https://localhost:8080/"
        },
        "id": "FNMGIruvOEbo",
        "outputId": "30a20d0e-2193-4e9e-f5a6-100bd4facd6b"
      },
      "execution_count": 4,
      "outputs": [
        {
          "output_type": "stream",
          "name": "stdout",
          "text": [
            "<class 'pandas.core.frame.DataFrame'>\n",
            "RangeIndex: 5 entries, 0 to 4\n",
            "Data columns (total 3 columns):\n",
            " #   Column  Non-Null Count  Dtype \n",
            "---  ------  --------------  ----- \n",
            " 0   Name    5 non-null      object\n",
            " 1   Age     5 non-null      int64 \n",
            " 2   Score   5 non-null      int64 \n",
            "dtypes: int64(2), object(1)\n",
            "memory usage: 252.0+ bytes\n"
          ]
        }
      ]
    },
    {
      "cell_type": "code",
      "source": [
        "# Example 3\n",
        "\n",
        "print(df.describe())"
      ],
      "metadata": {
        "colab": {
          "base_uri": "https://localhost:8080/"
        },
        "id": "bH8tUQ_HOLqI",
        "outputId": "070038e6-f351-4a4c-ab67-3ad209332d2a"
      },
      "execution_count": 5,
      "outputs": [
        {
          "output_type": "stream",
          "name": "stdout",
          "text": [
            "            Age      Score\n",
            "count   5.00000   5.000000\n",
            "mean   26.40000  86.600000\n",
            "std     3.04959   5.458938\n",
            "min    22.00000  78.000000\n",
            "25%    25.00000  85.000000\n",
            "50%    27.00000  88.000000\n",
            "75%    28.00000  90.000000\n",
            "max    30.00000  92.000000\n"
          ]
        }
      ]
    },
    {
      "cell_type": "code",
      "source": [
        "# Example 4\n",
        "\n",
        "# Creating a DataFrame with missing values\n",
        "data_with_na = {'Name': ['Alice', 'Bob', None, 'David', 'Eve'],\n",
        "                'Age': [25, None, 22, 28, 27],\n",
        "                'Score': [85, 90, None, 88, 92]}\n",
        "\n",
        "df_na = pd.DataFrame(data_with_na)\n",
        "\n",
        "# Removing rows with missing values\n",
        "df_clean = df_na.dropna()\n",
        "\n",
        "print(df_clean)\n"
      ],
      "metadata": {
        "colab": {
          "base_uri": "https://localhost:8080/"
        },
        "id": "UN50-ko1OezP",
        "outputId": "83d9625c-1b09-4816-9659-3dabb9f3f948"
      },
      "execution_count": 6,
      "outputs": [
        {
          "output_type": "stream",
          "name": "stdout",
          "text": [
            "    Name   Age  Score\n",
            "0  Alice  25.0   85.0\n",
            "3  David  28.0   88.0\n",
            "4    Eve  27.0   92.0\n"
          ]
        }
      ]
    },
    {
      "cell_type": "code",
      "source": [
        "# Example 5\n",
        "df_sorted = df.sort_values(by='Score', ascending=False)\n",
        "\n",
        "print(df_sorted)\n"
      ],
      "metadata": {
        "colab": {
          "base_uri": "https://localhost:8080/"
        },
        "id": "vJlxi_0hOje7",
        "outputId": "4f8e7a24-a4a0-4ba8-fe70-6949561f4458"
      },
      "execution_count": 7,
      "outputs": [
        {
          "output_type": "stream",
          "name": "stdout",
          "text": [
            "      Name  Age  Score\n",
            "4      Eve   27     92\n",
            "1      Bob   30     90\n",
            "3    David   28     88\n",
            "0    Alice   25     85\n",
            "2  Charlie   22     78\n"
          ]
        }
      ]
    },
    {
      "cell_type": "code",
      "source": [
        "#Q2\n",
        "\n",
        "import pandas as pd\n",
        "\n",
        "def reindex_dataframe(df):\n",
        "    df.index = range(1, 2 * len(df), 2)  # Generate a new index sequence\n",
        "    return df\n",
        "data = {'A': [10, 20, 30, 40],\n",
        "        'B': [50, 60, 70, 80],\n",
        "        'C': [90, 100, 110, 120]}\n",
        "\n",
        "df = pd.DataFrame(data)\n",
        "df_reindexed = reindex_dataframe(df)\n",
        "print(df_reindexed)\n"
      ],
      "metadata": {
        "colab": {
          "base_uri": "https://localhost:8080/"
        },
        "id": "aG5VDGRSOo_V",
        "outputId": "715618e5-a6a8-40b8-e79d-c202e0b35e2c"
      },
      "execution_count": 8,
      "outputs": [
        {
          "output_type": "stream",
          "name": "stdout",
          "text": [
            "    A   B    C\n",
            "1  10  50   90\n",
            "3  20  60  100\n",
            "5  30  70  110\n",
            "7  40  80  120\n"
          ]
        }
      ]
    },
    {
      "cell_type": "code",
      "source": [
        "#Q3\n",
        "\n",
        "import pandas as pd\n",
        "\n",
        "def sum_first_three(df):\n",
        "    first_three_sum = df['Values'].iloc[:3].sum()  # Select first 3 values and sum them\n",
        "    print(\"Sum of first three values:\", first_three_sum)\n",
        "data = {'Values': [10, 20, 30, 40, 50]}\n",
        "df = pd.DataFrame(data)\n",
        "sum_first_three(df)\n"
      ],
      "metadata": {
        "colab": {
          "base_uri": "https://localhost:8080/"
        },
        "id": "ID6UxjMkO63v",
        "outputId": "a170da63-e3b2-4ca7-a5c8-f41893f2a5d0"
      },
      "execution_count": 9,
      "outputs": [
        {
          "output_type": "stream",
          "name": "stdout",
          "text": [
            "Sum of first three values: 60\n"
          ]
        }
      ]
    },
    {
      "cell_type": "code",
      "source": [
        "#Q4\n",
        "\n",
        "import pandas as pd\n",
        "\n",
        "def add_word_count_column(df):\n",
        "    df['Word_Count'] = df['Text'].str.split().str.len()  # Split text and count words\n",
        "    return df\n",
        "data = {'Text': [\"Hello world!\", \"Pandas is amazing\", \"Data Science with Python\", \"Short sentence\"]}\n",
        "df = pd.DataFrame(data)\n",
        "df_with_word_count = add_word_count_column(df)\n",
        "print(df_with_word_count)\n"
      ],
      "metadata": {
        "colab": {
          "base_uri": "https://localhost:8080/"
        },
        "id": "3tkwCMKNPXPH",
        "outputId": "0cb2ff95-e282-4792-ebdb-1fd4e5fe4fd7"
      },
      "execution_count": 10,
      "outputs": [
        {
          "output_type": "stream",
          "name": "stdout",
          "text": [
            "                       Text  Word_Count\n",
            "0              Hello world!           2\n",
            "1         Pandas is amazing           3\n",
            "2  Data Science with Python           4\n",
            "3            Short sentence           2\n"
          ]
        }
      ]
    },
    {
      "cell_type": "code",
      "source": [
        "#Q5\n",
        "\n",
        "\"\"\"Both size and shape are attributes of a Pandas DataFrame, but they provide different information:\n",
        "\n",
        "df.shape\tReturns a tuple representing the number of rows and columns.\t(3, 4)\n",
        "shape is useful when you need to know the structure of the DataFrame (number of rows and columns).\n",
        "\n",
        "df.size\tReturns the total number of elements (rows × columns).\t12\n",
        "size gives the total number of elements, which is the product of rows and columns.\"\"\""
      ],
      "metadata": {
        "id": "kGJRpLf5PpWn"
      },
      "execution_count": null,
      "outputs": []
    },
    {
      "cell_type": "code",
      "source": [
        "#Q6\n",
        "\n",
        "\"\"\" To read an Excel file in Pandas, we use the pd.read_excel() function. \"\"\""
      ],
      "metadata": {
        "id": "Z2sF6P-PQYAl"
      },
      "execution_count": null,
      "outputs": []
    },
    {
      "cell_type": "code",
      "source": [
        "#Q7\n",
        "\n",
        "import pandas as pd\n",
        "\n",
        "def extract_username(df):\n",
        "    df['Username'] = df['Email'].str.split('@').str[0]  # Splitting at '@' and taking the first part\n",
        "    return df\n",
        "data = {'Email': ['john.doe@example.com', 'alice123@gmail.com', 'bob_smith@yahoo.com']}\n",
        "df = pd.DataFrame(data)\n",
        "df_with_usernames = extract_username(df)\n",
        "print(df_with_usernames)"
      ],
      "metadata": {
        "colab": {
          "base_uri": "https://localhost:8080/"
        },
        "id": "G32D07oUQYT_",
        "outputId": "f6bbefd1-c53b-4244-88fa-c135909e7985"
      },
      "execution_count": 12,
      "outputs": [
        {
          "output_type": "stream",
          "name": "stdout",
          "text": [
            "                  Email   Username\n",
            "0  john.doe@example.com   john.doe\n",
            "1    alice123@gmail.com   alice123\n",
            "2   bob_smith@yahoo.com  bob_smith\n"
          ]
        }
      ]
    },
    {
      "cell_type": "code",
      "source": [
        "#Q8\n",
        "\n",
        "import pandas as pd\n",
        "\n",
        "def filter_rows(df):\n",
        "    filtered_df = df[(df['A'] > 5) & (df['B'] < 10)]  # Applying conditions\n",
        "    return filtered_df\n",
        "data = {'A': [3, 8, 6, 2, 9, 8, 9],\n",
        "        'B': [5, 2, 9, 3, 1, 2, 1],\n",
        "        'C': [1, 7, 4, 5, 2, 7, 2]}\n",
        "\n",
        "df = pd.DataFrame(data)\n",
        "filtered_df = filter_rows(df)\n",
        "print(filtered_df)\n"
      ],
      "metadata": {
        "colab": {
          "base_uri": "https://localhost:8080/"
        },
        "id": "LH4Zk1LTQruH",
        "outputId": "6492c350-e1e7-482e-cd7a-ece9753a9a8f"
      },
      "execution_count": 13,
      "outputs": [
        {
          "output_type": "stream",
          "name": "stdout",
          "text": [
            "   A  B  C\n",
            "1  8  2  7\n",
            "2  6  9  4\n",
            "4  9  1  2\n",
            "5  8  2  7\n",
            "6  9  1  2\n"
          ]
        }
      ]
    },
    {
      "cell_type": "code",
      "source": [
        "#Q9\n",
        "\n",
        "import pandas as pd\n",
        "\n",
        "def calculate_statistics(df):\n",
        "    mean_value = df['Values'].mean()\n",
        "    median_value = df['Values'].median()\n",
        "    std_dev = df['Values'].std()\n",
        "\n",
        "    print(f\"Mean: {mean_value}\")\n",
        "    print(f\"Median: {median_value}\")\n",
        "    print(f\"Standard Deviation: {std_dev}\")\n",
        "\n",
        "data = {'Values': [10, 20, 30, 40, 50]}\n",
        "df = pd.DataFrame(data)\n",
        "calculate_statistics(df)\n"
      ],
      "metadata": {
        "colab": {
          "base_uri": "https://localhost:8080/"
        },
        "id": "3bNMvQARQrxs",
        "outputId": "f10b84c5-fb7a-4924-93bd-d7c511b4cc5f"
      },
      "execution_count": 14,
      "outputs": [
        {
          "output_type": "stream",
          "name": "stdout",
          "text": [
            "Mean: 30.0\n",
            "Median: 30.0\n",
            "Standard Deviation: 15.811388300841896\n"
          ]
        }
      ]
    },
    {
      "cell_type": "code",
      "source": [
        "#Q10\n",
        "\n",
        "import pandas as pd\n",
        "\n",
        "def calculate_moving_average(df):\n",
        "    df['MovingAverage'] = df['Sales'].rolling(window=7, min_periods=1).mean()\n",
        "    return df\n",
        "\n",
        "data = {'Date': pd.date_range(start='2024-03-01', periods=10, freq='D'),\n",
        "        'Sales': [100, 200, 150, 300, 250, 400, 350, 500, 450, 600]}\n",
        "\n",
        "df = pd.DataFrame(data)\n",
        "df_with_moving_avg = calculate_moving_average(df)\n",
        "print(df_with_moving_avg)\n"
      ],
      "metadata": {
        "colab": {
          "base_uri": "https://localhost:8080/"
        },
        "id": "q6hPvKOURyFi",
        "outputId": "f8d5a777-ef28-43aa-bf3b-bee40b452e4e"
      },
      "execution_count": 15,
      "outputs": [
        {
          "output_type": "stream",
          "name": "stdout",
          "text": [
            "        Date  Sales  MovingAverage\n",
            "0 2024-03-01    100     100.000000\n",
            "1 2024-03-02    200     150.000000\n",
            "2 2024-03-03    150     150.000000\n",
            "3 2024-03-04    300     187.500000\n",
            "4 2024-03-05    250     200.000000\n",
            "5 2024-03-06    400     233.333333\n",
            "6 2024-03-07    350     250.000000\n",
            "7 2024-03-08    500     307.142857\n",
            "8 2024-03-09    450     342.857143\n",
            "9 2024-03-10    600     407.142857\n"
          ]
        }
      ]
    },
    {
      "cell_type": "code",
      "source": [
        "#Q11\n",
        "\n",
        "import pandas as pd\n",
        "\n",
        "def add_weekday_column(df):\n",
        "    df['Date'] = pd.to_datetime(df['Date'])\n",
        "    df['Weekday'] = df['Date'].dt.day_name()\n",
        "    return df\n",
        "data = {'Date': ['2023-01-01', '2023-01-02', '2023-01-03', '2023-01-04', '2023-01-05']}\n",
        "df = pd.DataFrame(data)\n",
        "df_with_weekday = add_weekday_column(df)\n",
        "\n",
        "print(df_with_weekday)\n"
      ],
      "metadata": {
        "colab": {
          "base_uri": "https://localhost:8080/"
        },
        "id": "IgYzW8-FSD3a",
        "outputId": "da19378b-d89a-4f27-994d-5fe64bf258c7"
      },
      "execution_count": 16,
      "outputs": [
        {
          "output_type": "stream",
          "name": "stdout",
          "text": [
            "        Date    Weekday\n",
            "0 2023-01-01     Sunday\n",
            "1 2023-01-02     Monday\n",
            "2 2023-01-03    Tuesday\n",
            "3 2023-01-04  Wednesday\n",
            "4 2023-01-05   Thursday\n"
          ]
        }
      ]
    },
    {
      "cell_type": "code",
      "source": [
        "#Q12\n",
        "\n",
        "import pandas as pd\n",
        "\n",
        "def filter_by_date_range(df):\n",
        "    df['Date'] = pd.to_datetime(df['Date'])\n",
        "    filtered_df = df[(df['Date'] >= '2023-01-01') & (df['Date'] <= '2023-01-31')]\n",
        "    return filtered_df\n",
        "data = {'Date': ['2022-12-30', '2023-01-01', '2023-01-15', '2023-01-31', '2023-02-01'],\n",
        "        'Value': [100, 200, 300, 400, 500]}\n",
        "df = pd.DataFrame(data)\n",
        "filtered_df = filter_by_date_range(df)\n",
        "\n",
        "print(filtered_df)\n"
      ],
      "metadata": {
        "colab": {
          "base_uri": "https://localhost:8080/"
        },
        "id": "rc4CNsg3Slwh",
        "outputId": "95777748-68af-4833-da7c-17f42a950271"
      },
      "execution_count": 17,
      "outputs": [
        {
          "output_type": "stream",
          "name": "stdout",
          "text": [
            "        Date  Value\n",
            "1 2023-01-01    200\n",
            "2 2023-01-15    300\n",
            "3 2023-01-31    400\n"
          ]
        }
      ]
    },
    {
      "cell_type": "code",
      "source": [
        "#Q13\n",
        "\n",
        "\"\"\" The first and foremost necessary library that needs to be imported to use the basic functions of Pandas is: import pandas as pd \"\"\""
      ],
      "metadata": {
        "id": "6rhKk-n0S7V0"
      },
      "execution_count": null,
      "outputs": []
    }
  ]
}