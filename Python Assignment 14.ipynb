{
  "nbformat": 4,
  "nbformat_minor": 0,
  "metadata": {
    "colab": {
      "provenance": []
    },
    "kernelspec": {
      "name": "python3",
      "display_name": "Python 3"
    },
    "language_info": {
      "name": "python"
    }
  },
  "cells": [
    {
      "cell_type": "code",
      "execution_count": null,
      "metadata": {
        "id": "WWN5kNOet29w"
      },
      "outputs": [],
      "source": [
        "# Q1\n",
        "\n",
        "  \"\"\"An API (Application Programming Interface) is a set of rules and protocols that allows different software applications to communicate with each other.\n",
        "APIs enable developers to integrate data, services, and functionalities from other applications, simplifying and accelerating the development process.\n",
        "\n",
        "  Example : 1) Log in Using Id and Password : prominent example of API usage is the “log-in using Facebook/Twitter/Google/Github” functionality you see on so many websites.\n",
        "\n",
        "2) Pay with Cards : Most online stores offer Paypal and other payment methods, utilizing API connections to these services.\n",
        "\n",
        "3) Trave Booking : Using third-party APIs to collect flight and hotel availabilities from providers. APIs are great for travel services since they make it easy for\n",
        "machines to quickly and autonomously exchange both data and requests — in this case, trip availabilities and reservation requests.\"\"\"\n"
      ]
    },
    {
      "cell_type": "code",
      "source": [
        "# Q2\n",
        "\n",
        "\"\"\"Advantages of API:\n",
        "\n",
        "1) Increased Interoperability: API solutions enable different software systems to communicate with each other, regardless of their programming language or platform.\n",
        "This enhances the interoperability between systems, allowing for the exchange of data and functionality.\n",
        "\n",
        "2) Improved Efficiency: API driven infrastructures enable developers to reuse code and functionality from existing software systems, saving time and reducing the\n",
        "amount of code that needs to be written from scratch.\n",
        "\n",
        "3) Better User Experience: APIs can enable third-party developers to create applications that integrate with existing software systems, providing a better user experience\n",
        "and increased functionality.\n",
        "\n",
        "4) Increased Flexibility: APIs provide developers with greater flexibility, enabling them to choose the best programming languages and frameworks for their needs.\n",
        "New Revenue Streams: APIs can enable companies to create new revenue streams by providing third-party developers with access to their software systems.\n",
        "\n",
        "Disadvantages of API:\n",
        "\n",
        "1) Security Concerns: API infrastructures can be vulnerable to security breaches, such as SQL injection attacks and cross-site scripting (XSS) attacks, making it crucial to\n",
        "implement security measures to protect against these threats.\n",
        "\n",
        "2) Complexity: APIs can be complex, requiring a significant amount of development effort to implement and maintain.\n",
        "\n",
        "3) Compatibility Issues: APIs can have compatibility issues between different versions of the same software system or between different systems, which can lead to errors and\n",
        "system failures.\n",
        "\n",
        "4) Dependency on Third-Party Developers: APIs rely on third-party developers to create applications that integrate with the software system. This can create dependencies that\n",
        "are outside of the control of the company that owns the software system.\n",
        "\n",
        "5) Governance and Management: APIs require proper governance and management to ensure they are being used correctly and consistently across different applications and systems.\"\"\"\n",
        "\n"
      ],
      "metadata": {
        "id": "UtvkPfYNwJUQ"
      },
      "execution_count": null,
      "outputs": []
    },
    {
      "cell_type": "code",
      "source": [
        "# Q3\n",
        "\n",
        "\"\"\"A Web API (Application Programming Interface) is an interface that allows applications to communicate with each other over the web using the HTTP protocol.\n",
        "It provides a set of functions and protocols that enable developers to access specific features or data of an application, operating system, or other services\n",
        "\n",
        "        Web service is a collection of open source protocols and standards used for exchanging data between systems or applications, whereas API is a software\n",
        " interface that allows two applications to interact with each other without any user involvement.\n",
        "Web service is used for REST, SOAP, and XML-RPC for communication, while API is used for any style of communication.\n",
        "Web service supports only HTTP protocol, whereas API supports HTTP/HTTPS protocol.\n",
        "Web service supports XML, while API supports XML and JSON.\n",
        "All Web services are APIs, but all APIs are not web services.\"\"\"\n"
      ],
      "metadata": {
        "id": "KOJyrmCdwJXt"
      },
      "execution_count": null,
      "outputs": []
    },
    {
      "cell_type": "code",
      "source": [
        "# Q4\n",
        "\n",
        "\"\"\"Web services should be implemented in various ways. The two types of widely used web services are SOAP and RESTful web services.\n",
        "\n",
        "SOAP : SOAP is a protocol which was designed before REST came into the picture. The main idea behind creating SOAP was to ensure that programs built on different platforms and\n",
        " programming languages could securely exchange data.\n",
        "\n",
        "REST : This was designed specifically for working with components such as media components, files, or even objects on a particular hardware device. Any web service which is defined\n",
        " on the principles of REST can be called a RESTful web service. REST uses the normal HTTP verbs of GET, POST, PUT and DELETE for working with the required components.\"\"\"\n",
        "\n",
        "\n"
      ],
      "metadata": {
        "id": "7ik-zDZu_R_S"
      },
      "execution_count": null,
      "outputs": []
    },
    {
      "cell_type": "code",
      "source": [
        "# Q5\n",
        "\n",
        "\"\"\"Rest :\n",
        "1 )Rest uses URI i.e. Uniform Resource Indetifier and assume everything as a resource\n",
        "2) It do not store any past data, requests and do independent operations Generally transports data in JSON.\n",
        "      It is based on URI. Because REST follows stateless model, REST does not enforces message format as XML or JSON etc.\n",
        "3) Relies on REST (Representational State Transfer) architecture using HTTP.\n",
        "4) Rest usually works with JSON and XML data formats\n",
        "5) It works with GET, POST, PUT, DELETE\n",
        "6) Works over HTTP and HTTPS\n",
        "7) Less structured -> less bulky data\n",
        "8) Designed with mobile devices in mind\n",
        "\n",
        "Soap :\n",
        "1) SOAP Relies on SOAP (Simple Object Access Protocol) is a protocol as it has some strict rules for data fomat and communication.\n",
        "2) It manages the recods and maintain the state between the requests.\n",
        "3) SOAP relies on SSL and WS-Securiy for secured communication.\n",
        "4) SOAP works with the XML data format to handle the complex data, it works with WSDL.\n",
        "5) Works over HTTP, HTTPS, SMTP, XMPP\n",
        "6) Highly structured/typed\n",
        "7) Designed with large enterprise applications in mind\"\"\"\n"
      ],
      "metadata": {
        "id": "MGrkQH-j_SEK"
      },
      "execution_count": null,
      "outputs": []
    },
    {
      "cell_type": "code",
      "source": [
        "\n",
        "\n"
      ],
      "metadata": {
        "id": "gUZHkoIyCmSa"
      },
      "execution_count": null,
      "outputs": []
    }
  ]
}