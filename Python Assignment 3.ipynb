{
 "cells": [
  {
   "cell_type": "code",
   "execution_count": null,
   "id": "f66fe3fe-5ac6-4552-8a44-9710e2a0f391",
   "metadata": {},
   "outputs": [],
   "source": [
    "\"\"\"Q 1\n",
    "\n",
    "Def keyword used to create a function\"\"\"\n"
   ]
  },
  {
   "cell_type": "code",
   "execution_count": 2,
   "id": "c6fd3bbb-d4c5-448a-ae31-ee337179cce2",
   "metadata": {},
   "outputs": [
    {
     "name": "stdout",
     "output_type": "stream",
     "text": [
      "[1, 3, 5, 7, 9, 11, 13, 15, 17, 19, 21, 23]\n"
     ]
    }
   ],
   "source": [
    "#Q 1 \n",
    "\n",
    "def odd_numbers(n):\n",
    "    return [x for x in range (0,n) if x%2 !=0]\n",
    "print(odd_numbers(25))"
   ]
  },
  {
   "cell_type": "code",
   "execution_count": null,
   "id": "1d6399bc-86f9-42ce-9a07-30a50750144c",
   "metadata": {},
   "outputs": [],
   "source": [
    "\"\"\" Q2\n",
    "args = Python has *args which allow us to pass the variable number of non keyword arguments to function.\n",
    "\n",
    "kwargs we use the double asterisk ** before the parameter name to denote this type of argument. The arguments are passed as a dictionary and these arguments make a dictionary inside function.\n",
    "\n"
   ]
  },
  {
   "cell_type": "code",
   "execution_count": 1,
   "id": "a5854015-132f-4c80-9816-bbc84294a9bf",
   "metadata": {},
   "outputs": [],
   "source": [
    "# Ex args\n",
    "\n",
    "def test1 (*anand) :\n",
    "    return anand"
   ]
  },
  {
   "cell_type": "code",
   "execution_count": 2,
   "id": "bc8b7f78-d801-483e-a48a-673d7b67b633",
   "metadata": {},
   "outputs": [
    {
     "data": {
      "text/plain": [
       "(1, 2, 3, 4, 5)"
      ]
     },
     "execution_count": 2,
     "metadata": {},
     "output_type": "execute_result"
    }
   ],
   "source": [
    "test1(1,2,3,4,5)"
   ]
  },
  {
   "cell_type": "code",
   "execution_count": 8,
   "id": "6a78af30-4fc0-420c-8f37-8d002847acd2",
   "metadata": {},
   "outputs": [],
   "source": [
    "# Ex Kwargs \n",
    "\n",
    "def test2(**aradhya):\n",
    "    return aradhya"
   ]
  },
  {
   "cell_type": "code",
   "execution_count": 10,
   "id": "7ae07865-106f-43b6-abc3-60615c00c794",
   "metadata": {},
   "outputs": [
    {
     "data": {
      "text/plain": [
       "{'a': 'aradhya', 'b': 'mayuri', 'c': 'anand'}"
      ]
     },
     "execution_count": 10,
     "metadata": {},
     "output_type": "execute_result"
    }
   ],
   "source": [
    "test2(a=\"aradhya\", b=\"mayuri\", c=\"anand\")"
   ]
  },
  {
   "cell_type": "code",
   "execution_count": null,
   "id": "99118064-7a1d-45fb-a60a-355510438250",
   "metadata": {},
   "outputs": [],
   "source": [
    "\"\"\"Q 3\n",
    "\n",
    "An iterator in Python is an object that allows you to traverse or loop through elements in a collection \n",
    "(such as lists, tuples, dictionaries, and sets). It provides a way to access each item sequentially without needing \n",
    "to know the underlying data structure.\"\"\"\n"
   ]
  },
  {
   "cell_type": "code",
   "execution_count": 15,
   "id": "e822114a-0b28-4b0a-9910-7e3c3d9e85d9",
   "metadata": {},
   "outputs": [],
   "source": [
    "a = (2,4,6,8,10,12,14,16,18,20)"
   ]
  },
  {
   "cell_type": "code",
   "execution_count": 16,
   "id": "4d576473-44f2-48eb-9c20-3d246ea51124",
   "metadata": {},
   "outputs": [],
   "source": [
    "a1= iter(a)"
   ]
  },
  {
   "cell_type": "code",
   "execution_count": 17,
   "id": "9568d696-dafa-4ea0-8dec-f31b330bc6be",
   "metadata": {},
   "outputs": [
    {
     "data": {
      "text/plain": [
       "(2, 4, 6, 8, 10)"
      ]
     },
     "execution_count": 17,
     "metadata": {},
     "output_type": "execute_result"
    }
   ],
   "source": [
    "next(a1),next(a1),next(a1),next(a1),next(a1)"
   ]
  },
  {
   "cell_type": "code",
   "execution_count": null,
   "id": "b1131f90-0758-437d-afa5-abf4c5e6dfa5",
   "metadata": {},
   "outputs": [],
   "source": [
    "\"\"\"Q 4\n",
    "In Python, a generator function is a function that returns an iterator. It generates values on-the-fly using the yield keyword \n",
    "rather than returning them all at once.\n",
    "    The yield keyword in Python is used to create a generator function, which is a type of function that can be used like an iterator object. \n",
    "It allows a function to return a value and pause its execution, which can be resumed later to continue where it left off.\"\"\""
   ]
  },
  {
   "cell_type": "code",
   "execution_count": 1,
   "id": "4f2e99d3-7aef-466a-b482-4215032d34c0",
   "metadata": {},
   "outputs": [],
   "source": [
    "#Ex\n",
    "def test3(n):\n",
    "    a,b = 0,1 \n",
    "    for i in range (n) :\n",
    "        yield a \n",
    "        a,b = b, a+b"
   ]
  },
  {
   "cell_type": "code",
   "execution_count": 2,
   "id": "f4176070-9d39-4325-b051-6afc8e50d7dc",
   "metadata": {},
   "outputs": [
    {
     "name": "stdout",
     "output_type": "stream",
     "text": [
      "0\n",
      "1\n",
      "1\n",
      "2\n",
      "3\n",
      "5\n",
      "8\n",
      "13\n",
      "21\n",
      "34\n"
     ]
    }
   ],
   "source": [
    "for i in test3(10) :\n",
    "    print(i)"
   ]
  },
  {
   "cell_type": "code",
   "execution_count": 6,
   "id": "c1c3e7b2-da70-41a3-b2fd-1f1246cdb657",
   "metadata": {},
   "outputs": [
    {
     "name": "stdin",
     "output_type": "stream",
     "text": [
      "Input the number of prime numbers you want to generate 20\n"
     ]
    },
    {
     "name": "stdout",
     "output_type": "stream",
     "text": [
      "First 20 Prime numbers:\n",
      "5\n",
      "7\n",
      "9\n",
      "11\n",
      "13\n",
      "15\n",
      "17\n",
      "19\n",
      "21\n",
      "23\n",
      "25\n",
      "27\n",
      "29\n",
      "31\n",
      "33\n",
      "35\n",
      "37\n",
      "39\n",
      "41\n",
      "43\n"
     ]
    }
   ],
   "source": [
    "# Q 5\n",
    "\n",
    "def prime_numbers(n):\n",
    "    if n <= 1 :\n",
    "        return false\n",
    "    for i in range (2, int(n**0.5) + 1):\n",
    "        if n % i == 0 :\n",
    "            return False \n",
    "        return True\n",
    "    \n",
    "def prime_nums_generator():\n",
    "    n = 2\n",
    "    while True:\n",
    "        if prime_numbers(n):\n",
    "            yield n \n",
    "        n += 1\n",
    "        \n",
    "primes = prime_nums_generator()\n",
    "\n",
    "n = int(input(\"Input the number of prime numbers you want to generate\"))\n",
    "\n",
    "print(\"First\", n, \"Prime numbers:\")\n",
    "for _  in range(n) :\n",
    "    print(next(primes))"
   ]
  },
  {
   "cell_type": "code",
   "execution_count": 3,
   "id": "03aa29db-96dd-4e01-b510-bea4d1e42a11",
   "metadata": {},
   "outputs": [
    {
     "name": "stdin",
     "output_type": "stream",
     "text": [
      "Input the number of prime numbers you want to generate?  20\n"
     ]
    },
    {
     "name": "stdout",
     "output_type": "stream",
     "text": [
      "First 20 Prime numbers:\n",
      "2\n",
      "3\n",
      "5\n",
      "7\n",
      "11\n",
      "13\n",
      "17\n",
      "19\n",
      "23\n",
      "29\n",
      "31\n",
      "37\n",
      "41\n",
      "43\n",
      "47\n",
      "53\n",
      "59\n",
      "61\n",
      "67\n",
      "71\n"
     ]
    }
   ],
   "source": [
    "def is_prime(n):\n",
    "    if n <= 1:\n",
    "        return False\n",
    "    for i in range(2, int(n**0.5) + 1):\n",
    "        if n % i == 0:\n",
    "            return False\n",
    "    return True\n",
    "\n",
    "def prime_nums_generator():\n",
    "    n = 2\n",
    "    while True:\n",
    "        if is_prime(n):\n",
    "            yield n\n",
    "        n += 1\n",
    "\n",
    "primes = prime_nums_generator()\n",
    "\n",
    "n = int(input(\"Input the number of prime numbers you want to generate? \"))\n",
    "\n",
    "print(\"First\",n,\"Prime numbers:\")\n",
    "for _ in range(n):\n",
    "    print(next(primes))\n"
   ]
  },
  {
   "cell_type": "code",
   "execution_count": 17,
   "id": "bec6d8ef-a18c-4926-827f-efc5c7c2cef5",
   "metadata": {},
   "outputs": [
    {
     "name": "stdout",
     "output_type": "stream",
     "text": [
      "Fibonacci series with 10 elements: [0, 1, 1]\n"
     ]
    }
   ],
   "source": [
    "#Q 6 \n",
    "\n",
    "def fibonacci_list(n):\n",
    "    fib_series=[0,1]\n",
    "    for i in range (2,n):\n",
    "        fib_series.append(fib_series[-1] + fib_series[-2])\n",
    "        return fib_series\n",
    "n = 10\n",
    "result = fibonacci_list(n)\n",
    "print(f\"Fibonacci series with {n} elements:\", result)"
   ]
  },
  {
   "cell_type": "code",
   "execution_count": 18,
   "id": "0eb76d6b-c73c-4fca-8b0b-44d98666f2da",
   "metadata": {},
   "outputs": [
    {
     "name": "stdout",
     "output_type": "stream",
     "text": [
      "Fibonacci series with 10 elements: [0, 1, 1, 2, 3, 5, 8, 13, 21, 34]\n"
     ]
    }
   ],
   "source": [
    "#Q 6\n",
    "\n",
    "def fibonacci_list(n):\n",
    "\tfib_series = [0, 1]\n",
    "\tfor i in range(2, n):\n",
    "\t\tfib_series.append(fib_series[-1] + fib_series[-2])\n",
    "\treturn fib_series\n",
    "\n",
    "n = 10\n",
    "result = fibonacci_list(n)\n",
    "print(f\"Fibonacci series with {n} elements:\", result)\n"
   ]
  },
  {
   "cell_type": "code",
   "execution_count": 22,
   "id": "f7fa444c-8ea2-481f-8bb8-09907781a9a1",
   "metadata": {},
   "outputs": [
    {
     "name": "stdout",
     "output_type": "stream",
     "text": [
      "['p', 'w', 's', 'k', 'i', 'l', 'l', 's']\n"
     ]
    }
   ],
   "source": [
    "#Q 7\n",
    "\n",
    "List = [] \n",
    "\n",
    "for character in 'pwskills': \n",
    "\tList.append(character) \n",
    "\n",
    "print(List) \n"
   ]
  },
  {
   "cell_type": "code",
   "execution_count": 25,
   "id": "3772fd12-8325-496c-aaf6-0a20fc5becda",
   "metadata": {},
   "outputs": [
    {
     "name": "stdin",
     "output_type": "stream",
     "text": [
      "Enter a number 12\n"
     ]
    },
    {
     "name": "stdout",
     "output_type": "stream",
     "text": [
      "No, its not a palindrome\n"
     ]
    }
   ],
   "source": [
    "#Q 8 \n",
    "\n",
    "number = input(\"Enter a number\")\n",
    "if number == number[::-1] :\n",
    "    print(\"Yes its palindrome\")\n",
    "else:\n",
    "    print(\"No, its not a palindrome\")\n",
    "    "
   ]
  },
  {
   "cell_type": "code",
   "execution_count": 27,
   "id": "b6c8d972-8c8a-44f9-841f-4c07fe7ce1a6",
   "metadata": {},
   "outputs": [
    {
     "name": "stdout",
     "output_type": "stream",
     "text": [
      "1 3 5 7 9 11 13 15 17 19 21 23 25 27 29 31 33 35 37 39 41 43 45 47 49 51 53 55 57 59 61 63 65 67 69 71 73 75 77 79 81 83 85 87 89 91 93 95 97 99 "
     ]
    }
   ],
   "source": [
    "# Q 9\n",
    "Odd_Numbers = []\n",
    "for i in range (100) :\n",
    "    if i % 2 == 0 :\n",
    "        pass\n",
    "    else :\n",
    "        print(i, end = \" \")"
   ]
  },
  {
   "cell_type": "code",
   "execution_count": null,
   "id": "d4080828-7b1d-4c4f-9cab-04dd2f772533",
   "metadata": {},
   "outputs": [],
   "source": []
  }
 ],
 "metadata": {
  "kernelspec": {
   "display_name": "Python 3 (ipykernel)",
   "language": "python",
   "name": "python3"
  },
  "language_info": {
   "codemirror_mode": {
    "name": "ipython",
    "version": 3
   },
   "file_extension": ".py",
   "mimetype": "text/x-python",
   "name": "python",
   "nbconvert_exporter": "python",
   "pygments_lexer": "ipython3",
   "version": "3.10.8"
  }
 },
 "nbformat": 4,
 "nbformat_minor": 5
}
