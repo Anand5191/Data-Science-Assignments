{
 "cells": [
  {
   "cell_type": "code",
   "execution_count": 1,
   "id": "b90b4dc6-1802-4fe2-90d6-f946fad8110e",
   "metadata": {},
   "outputs": [
    {
     "name": "stdout",
     "output_type": "stream",
     "text": [
      "[('Virat Kohali', 24936), ('Jack Kallis', 25534), ('Ricky Ponting', 27483), ('Sachin Tendulkar', 34357)]\n"
     ]
    }
   ],
   "source": [
    "#Q 1 \n",
    "\n",
    "def sort_tuple(tup):\n",
    "    tup.sort(key= lambda x: x[1])\n",
    "    return tup\n",
    "            \n",
    "tup = [('Sachin Tendulkar', 34357),('Ricky Ponting', 27483),('Jack Kallis',25534),('Virat Kohali',24936)]\n",
    "print(sort_tuple(tup))"
   ]
  },
  {
   "cell_type": "code",
   "execution_count": 10,
   "id": "6790d44d-3ca4-471b-ae4b-738ec73b7129",
   "metadata": {},
   "outputs": [
    {
     "name": "stdout",
     "output_type": "stream",
     "text": [
      "Square of Numbers : [1, 4, 9, 16, 25, 36, 49, 64, 81, 100]\n"
     ]
    }
   ],
   "source": [
    "#Q 2\n",
    "\n",
    "Numbers = (1,2,3,4,5,6,7,8,9,10)\n",
    "\n",
    "\n",
    "Square_of_Numbers = list(map(lambda x: x ** 2, Numbers))\n",
    "\n",
    "print(\"Square of Numbers :\", Square_of_Numbers)\n",
    "\n"
   ]
  },
  {
   "cell_type": "code",
   "execution_count": 13,
   "id": "9e56e9a5-c290-455a-b618-9e6f101054a9",
   "metadata": {},
   "outputs": [
    {
     "name": "stdout",
     "output_type": "stream",
     "text": [
      "Tuple of strings: ('1', '2', '3', '4', '5', '6', '7', '8', '9', '10')\n"
     ]
    }
   ],
   "source": [
    "#Q 3\n",
    "\n",
    "Integers = [1, 2, 3, 4, 5, 6, 7, 8, 9, 10]\n",
    "\n",
    "string_tuples = list(map(lambda x: str(x), Integers))\n",
    "\n",
    "tuple_of_strings = tuple(string_tuples)\n",
    "\n",
    "print(\"Tuple of strings:\", tuple_of_strings)\n"
   ]
  },
  {
   "cell_type": "code",
   "execution_count": 17,
   "id": "8389edee-535f-425e-9a6a-34ae447f03e8",
   "metadata": {},
   "outputs": [
    {
     "name": "stdout",
     "output_type": "stream",
     "text": [
      "The product of the list elements is: 15511210043330985984000000\n"
     ]
    }
   ],
   "source": [
    "#Q 4\n",
    "\n",
    "from functools import reduce\n",
    "\n",
    "numbers = list(range(1, 26))\n",
    "\n",
    "product = reduce(lambda x, y: x * y, numbers)\n",
    "\n",
    "print(f\"The product of the list elements is: {product}\")\n"
   ]
  },
  {
   "cell_type": "code",
   "execution_count": 31,
   "id": "6516090f-2570-483b-a72c-e2e035ad1098",
   "metadata": {},
   "outputs": [
    {
     "name": "stdout",
     "output_type": "stream",
     "text": [
      "Numbers divisible by 3 and 2 are [6, 60, 90, 120]\n"
     ]
    }
   ],
   "source": [
    "# Q 5\n",
    "\n",
    "my_list = [2, 3, 6, 9, 27, 60, 90, 120, 55, 46]\n",
    "\n",
    "result = list(filter(lambda x: (x % (3*2) == 0), my_list))\n",
    "\n",
    "print(\"Numbers divisible by 3 and 2 are\", result)\n"
   ]
  },
  {
   "cell_type": "code",
   "execution_count": 1,
   "id": "237805f3-63f3-447b-a5f7-901e19e27cff",
   "metadata": {},
   "outputs": [
    {
     "name": "stdout",
     "output_type": "stream",
     "text": [
      "\n",
      "List of palindromes:\n",
      "['php', 'aba', 'radar', 'level']\n"
     ]
    }
   ],
   "source": [
    "#Q 6\n",
    "\n",
    "\n",
    "Strings = [\"python\", \"php\", \"aba\", \"radar\", \"level\" ]\n",
    "\n",
    "result = list(filter(lambda x: (x == \"\".join(reversed(x))), Strings))\n",
    "\n",
    "print(\"\\nList of palindromes:\")\n",
    "print(result)\n"
   ]
  },
  {
   "cell_type": "code",
   "execution_count": null,
   "id": "4992948e-1ccb-43d4-926f-23fdbc4450e5",
   "metadata": {},
   "outputs": [],
   "source": []
  }
 ],
 "metadata": {
  "kernelspec": {
   "display_name": "Python 3 (ipykernel)",
   "language": "python",
   "name": "python3"
  },
  "language_info": {
   "codemirror_mode": {
    "name": "ipython",
    "version": 3
   },
   "file_extension": ".py",
   "mimetype": "text/x-python",
   "name": "python",
   "nbconvert_exporter": "python",
   "pygments_lexer": "ipython3",
   "version": "3.10.8"
  }
 },
 "nbformat": 4,
 "nbformat_minor": 5
}
