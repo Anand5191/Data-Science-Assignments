{
 "cells": [
  {
   "cell_type": "code",
   "execution_count": 2,
   "id": "509e94de-08ca-4cb8-9d8f-cbd7d7d6328e",
   "metadata": {},
   "outputs": [],
   "source": [
    "#Q 1\n",
    "class vehicle :\n",
    "    def __init__(self, name_of_vehicle, max_speed, average_of_vehicle) :\n",
    "        self.name_of_vehicle= name_of_vehicle\n",
    "        self.max_speed = max_speed\n",
    "        self.average_of_vehicle = average_of_vehicle\n",
    "        \n",
    "    def car_details(self) :\n",
    "        return self.name_of_vehicle, self.max_speed, self.average_of_vehicle"
   ]
  },
  {
   "cell_type": "code",
   "execution_count": 3,
   "id": "6838b038-c8fc-4461-8530-82f14ff0c969",
   "metadata": {},
   "outputs": [],
   "source": [
    "#Q 2 \n",
    "\n",
    "class car(vehicle):\n",
    "    def __init__(self,seating_capacity, name_of_vehicle):\n",
    "        vehicle.__init__(self,seating_capacity,name_of_vehicle)\n",
    "    \n",
    "    def car_info(self, vehicle) :\n",
    "        return self.seating_capacity, self.name_of_vehicle\n",
    "        "
   ]
  },
  {
   "cell_type": "code",
   "execution_count": 6,
   "id": "5c9fa1f3-f8d4-491c-95c9-32a19aacdf72",
   "metadata": {},
   "outputs": [
    {
     "data": {
      "text/plain": [
       "'Inheritance is a fundamental concept in object-oriented programming (OOP) that allows you to create new classes based on existing ones.\\nInheritance enables a class called the derived class or child class to inherit properties and behaviors from another class known as the base class or parent class.'"
      ]
     },
     "execution_count": 6,
     "metadata": {},
     "output_type": "execute_result"
    }
   ],
   "source": [
    "# 3\n",
    "\"\"\"Inheritance is a fundamental concept in object-oriented programming (OOP) that allows you to create new classes based on existing ones.\n",
    "Inheritance enables a class called the derived class or child class to inherit properties and behaviors from another class known as the base class or parent class.\"\"\"\n"
   ]
  },
  {
   "cell_type": "code",
   "execution_count": null,
   "id": "43d94152-ffe5-4878-8fa8-8d5729fd4315",
   "metadata": {},
   "outputs": [],
   "source": [
    "#Q 3\n",
    "\n",
    "class pwskills :\n",
    "    def __init__ (self, mob_number, email_id) :\n",
    "        self.mob_number=mob_number\n",
    "        self.email_id=email_id\n",
    "        \n",
    "    def mentor_list(self, mentors) :\n",
    "        self.__init__"
   ]
  },
  {
   "cell_type": "code",
   "execution_count": 12,
   "id": "017cf679-55a8-4360-bab3-442769c56db3",
   "metadata": {},
   "outputs": [],
   "source": [
    "#Q 4\n",
    "\n",
    "class pwskills() :\n",
    "    def __init__(self, course_name, course_price) :\n",
    "        self.course_name = course_name\n",
    "        self.__course_price = course_price\n",
    "        \n",
    "    @property \n",
    "    def get_course_price (self) :\n",
    "        return self.__course_price\n",
    "    \n",
    "    @get_course_price.setter\n",
    "    def set_course_price(self, course_price) :\n",
    "        if course_price <= 5000 :\n",
    "            pass\n",
    "        else :\n",
    "            self.__course_price = course_price"
   ]
  },
  {
   "cell_type": "code",
   "execution_count": 1,
   "id": "4eb4f2bc-0271-4f01-bc13-43752a939897",
   "metadata": {},
   "outputs": [],
   "source": [
    "#Q 5\n",
    "\n",
    "\"\"\"Method Overriding in Python is an OOPS concept closely related to inheritance. \n",
    "When a child class method overrides the parent class method of the same name, parameters and return type, it is known as method overriding.\"\"\"\n"
   ]
  },
  {
   "cell_type": "code",
   "execution_count": 45,
   "id": "f9ba52f0-3ca8-4dc2-94d2-cdd87ab21e29",
   "metadata": {},
   "outputs": [],
   "source": [
    "#Q 5\n",
    "\n",
    "class data_science():\n",
    "    \n",
    "    def data_science_subject(self):\n",
    "        print(\"Data Science subjects are Python, SQL, Numpy, Pandas\")\n",
    "        \n",
    "class data_science_masters(data_science):\n",
    "    def mentor_for_data_science(self) :\n",
    "        print(\"My Data Science mentor is Sudhanshu Kumar\")\n",
    "            "
   ]
  },
  {
   "cell_type": "code",
   "execution_count": null,
   "id": "e133505d-3f0a-4a49-9388-4e9d5d3777cb",
   "metadata": {},
   "outputs": [],
   "source": []
  }
 ],
 "metadata": {
  "kernelspec": {
   "display_name": "Python 3 (ipykernel)",
   "language": "python",
   "name": "python3"
  },
  "language_info": {
   "codemirror_mode": {
    "name": "ipython",
    "version": 3
   },
   "file_extension": ".py",
   "mimetype": "text/x-python",
   "name": "python",
   "nbconvert_exporter": "python",
   "pygments_lexer": "ipython3",
   "version": "3.10.8"
  }
 },
 "nbformat": 4,
 "nbformat_minor": 5
}
