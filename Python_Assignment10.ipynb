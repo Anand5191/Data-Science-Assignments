{
  "nbformat": 4,
  "nbformat_minor": 0,
  "metadata": {
    "colab": {
      "provenance": []
    },
    "kernelspec": {
      "name": "python3",
      "display_name": "Python 3"
    },
    "language_info": {
      "name": "python"
    }
  },
  "cells": [
    {
      "cell_type": "code",
      "execution_count": null,
      "metadata": {
        "id": "_y83vtzyWAe0"
      },
      "outputs": [],
      "source": [
        "# Q1\n",
        "\n",
        "\"\"\"Multithreading is an execution method that runs multiple tasks at once, the task is handled by threads. A thread is a unit of execution, sharing resources and\n",
        "memory space during execution.\n",
        "\n",
        "       Improved Performance: Multithreading improves the performance of applications by running the task simultaneously.\n",
        "Better Responsiveness: Multithreading improves the responsiveness of your backend applications by running threads after a task is blocked.\n",
        "   It helps in handling multiple user requests in a real-time application.\n",
        "Scalability: Multithreading improves the scalability of an application by letting developers add more processors. It is useful when handling a large,\n",
        "    growing number of users on a server.\n",
        "Latency: Multithreading reduces the time of user requests in applications that need immediate attention. The threads work in sync to process the requests and responses.\n",
        "Real-time processing: Multithreading ensures tasks or requests are executed with little delay and maintains a smooth performance during real-time data processing.\n",
        "\n",
        "Threading mudule used to handle thread in python.\"\"\""
      ]
    },
    {
      "cell_type": "code",
      "source": [
        "# Q2\n",
        "\n",
        "\"\"\"The threading module provides a high-level interface for threading in Python, allowing for the creation, synchronization, and management of threads.\n",
        "\n",
        "The threading.active_count() is an inbuilt method of the threading module, it is used to return the number of Thread objects that are active at any instant.\n",
        "\n",
        "The threading.current_thread() is an inbuilt method of the threading module, it is used to return the current Thread object, which corresponds to the caller's thread of control.\n",
        "\n",
        "The threading.enumerate() is an inbuilt method of the threading module, it is used to return the list of all the Thread class objects which are currently alive.\n",
        " It also includes daemonic threads, the main thread, and dummy thread objects created by current_thread(). It does not count the threads that have terminated or\n",
        " which have not started yet.\"\"\"\n",
        "\n"
      ],
      "metadata": {
        "id": "_HVt6myadbL4"
      },
      "execution_count": null,
      "outputs": []
    },
    {
      "cell_type": "code",
      "source": [
        "# Q3\n",
        "\n",
        "\"\"\"start() method :\n",
        "This method is used to start the thread's activity. When we call this method, internally the run() method is invoked which executes the target function or the callable object.\n",
        "\n",
        "run() method :\n",
        "Method representing the thread's activity. we may override this method in a subclass extending the Thread class of the threading module. The standard run() method invokes the\n",
        "callable object passed to the object's constructor as the target argument with sequential and keyword arguments taken from the args and kwargs arguments, respectively.\n",
        "\n",
        "join() method :\n",
        "When we call this method for any thread, it blocks the calling thread until the thread whose join() method is called terminates, either normally or through an unhandled exception.\n",
        "\n",
        "isAlive() method :\n",
        "This method returns whether the thread is alive or not. A thread is alive from the moment the start() method returns until its run() method terminates.\"\"\"\n"
      ],
      "metadata": {
        "id": "9ak9ESaLdbPT"
      },
      "execution_count": null,
      "outputs": []
    },
    {
      "cell_type": "code",
      "source": [
        "# Q4\n",
        "\n",
        "import threading\n",
        "\n",
        "def print_squares(numbers):\n",
        "    squares = [n ** 2 for n in numbers]\n",
        "    print(f\"Squares: {squares}\")\n",
        "\n",
        "def print_cubes(numbers):\n",
        "    cubes = [n ** 3 for n in numbers]\n",
        "    print(f\"Cubes: {cubes}\")\n",
        "\n",
        "if __name__ == \"__main__\":\n",
        "    numbers = list(range(1, 11))\n",
        "\n",
        "    # Creating threads\n",
        "    thread1 = threading.Thread(target=print_squares, args=(numbers,))\n",
        "    thread2 = threading.Thread(target=print_cubes, args=(numbers,))\n",
        "\n",
        "    # Starting threads\n",
        "    thread1.start()\n",
        "    thread2.start()\n",
        "\n",
        "    # Waiting for both threads to complete\n",
        "    thread1.join()\n",
        "    thread2.join()\n",
        "\n",
        "    print(\"Done!\")\n"
      ],
      "metadata": {
        "colab": {
          "base_uri": "https://localhost:8080/"
        },
        "id": "E3RdOAwYjVN2",
        "outputId": "ad08088f-1242-4f84-8003-893ddcf2c2f8"
      },
      "execution_count": null,
      "outputs": [
        {
          "output_type": "stream",
          "name": "stdout",
          "text": [
            "Squares: [1, 4, 9, 16, 25, 36, 49, 64, 81, 100]\n",
            "Cubes: [1, 8, 27, 64, 125, 216, 343, 512, 729, 1000]\n",
            "Done!\n"
          ]
        }
      ]
    },
    {
      "cell_type": "code",
      "source": [
        "# Q5\n",
        "\n",
        "\"\"\"Advantages of Multithreading\n",
        "Improves resource utilization : Multithreading allows a computer to use its CPUs more effectively by handling multiple tasks at once instead of\n",
        "waiting for one to finish before starting another.\n",
        "\n",
        "Increases responsiveness : When using multithreading, a program can still respond to user input or other tasks even if part of it is busy,\n",
        "making the program feel faster and more responsive.\n",
        "\n",
        "Enables concurrent processing : By dividing tasks into smaller parts that can be processed at the same time, multithreading helps get more work done simultaneously,\n",
        " much like a team working together.\n",
        "\n",
        "Reduces idle computer time : When one task is waiting for something, like loading a file, multithreading lets the computer do other work instead of doing nothing,\n",
        "which makes better use of the computer’s time.\n",
        "\n",
        "Better system throughput : With multithreading, a computer can handle more tasks in the same amount of time, leading to more work being completed,\n",
        "which is like serving more customers at a restaurant.\n",
        "\n",
        "\n",
        "Disadvantages of Multithreading\n",
        "Complex debugging : Finding and fixing bugs can be tough because multiple threads may be running at the same time, causing unexpected issues.\n",
        "\n",
        "Higher resource consumption : Using more threads can lead to using more of the computer’s memory and processing power.\n",
        "\n",
        "Increased synchronization complexity : Making sure threads work well together without messing up each other’s tasks can be tricky and requires careful planning.\n",
        "\n",
        "Potential for thread interference : Threads can step on each other’s toes, leading to mistakes if they try to change the same data at the same time.\n",
        "\n",
        "Difficulty in timing predictability : It’s hard to tell exactly when a thread will start or finish, which can make it tough to manage tasks that need precise timing.\"\"\"\n"
      ],
      "metadata": {
        "id": "TzyWDYHgjVRS"
      },
      "execution_count": null,
      "outputs": []
    },
    {
      "cell_type": "code",
      "source": [
        "# Q6\n",
        "\n",
        "\"\"\"A deadlock occurs when two threads each lock a different variable at the same time and then try to lock the variable that the other thread already locked.\n",
        "As a result, each thread stops executing and waits for the other thread to release the variable. Because each thread is holding the variable that the other thread wants,\n",
        "nothing occurs, and the threads remain deadlocked.\n",
        "\n",
        "A race condition occurs when two or more threads try to access a shared variable simultaneously, leading to unpredictable outcomes.\n",
        "In this scenario, the first thread reads the value from the shared variable. At the same time, the second thread also reads the value from the same shared variable.\n",
        "Then both threads attempt to change the value of the shared variable. since the updates occur simultaneously, it creates a race to determine which thread’s modification is preserved.\n",
        "The final value of the shared variable depends on which thread completes its update last. Whatever thread that changes the value last will win the race.\"\"\"\n",
        "\n",
        "\n"
      ],
      "metadata": {
        "id": "l5WJRSZSKWNr"
      },
      "execution_count": null,
      "outputs": []
    },
    {
      "cell_type": "code",
      "source": [],
      "metadata": {
        "id": "_bQVE1tiKWRG"
      },
      "execution_count": null,
      "outputs": []
    }
  ]
}